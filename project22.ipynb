{
  "nbformat": 4,
  "nbformat_minor": 0,
  "metadata": {
    "colab": {
      "provenance": []
    },
    "kernelspec": {
      "name": "python3",
      "display_name": "Python 3"
    },
    "language_info": {
      "name": "python"
    },
    "accelerator": "GPU",
    "gpuClass": "standard"
  },
  "cells": [
    {
      "cell_type": "code",
      "source": [],
      "metadata": {
        "id": "VeGgvI6rjRWw"
      },
      "execution_count": null,
      "outputs": []
    },
    {
      "cell_type": "code",
      "execution_count": null,
      "metadata": {
        "id": "MTaK55wOZgRK"
      },
      "outputs": [],
      "source": [
        "#General Imports\n",
        "import numpy as np\n",
        "import pandas as pd\n",
        "import pickle \n",
        "from os.path import join\n",
        "\n",
        "#Preprocessing related imports \n",
        "from nltk.stem import WordNetLemmatizer\n",
        "import gensim.parsing.preprocessing as gpp\n",
        "import gensim.utils as gu\n"
      ]
    },
    {
      "cell_type": "code",
      "source": [
        "#Load full dataset \n",
        "data_dir = \"data/\"\n",
        "data = pd.read_csv(join(data_dir, \"/content/drive/MyDrive/New folder (3)/train.csv\"), header=None, names=['Rating', 'Title', 'Review'])\n",
        "display(data)\n"
      ],
      "metadata": {
        "colab": {
          "base_uri": "https://localhost:8080/",
          "height": 423
        },
        "id": "0he0Y6aVbK-A",
        "outputId": "254b0bec-66e5-405c-af55-a56169b9e36c"
      },
      "execution_count": null,
      "outputs": [
        {
          "output_type": "display_data",
          "data": {
            "text/plain": [
              "          Rating   Title                                             Review\n",
              "0            NaN  Rating                                         ReviewFull\n",
              "1            NaN  Rating                                       title review\n",
              "2       344444.0       1  big letdown reading positive reviews book look...\n",
              "3       818869.0       1  spectacularly bad seen worse comedy promising ...\n",
              "4      1272908.0       1  monkees memories magic book poorly edited able...\n",
              "...          ...     ...                                                ...\n",
              "49997   296748.0       5  required reading imaging able complete zelda g...\n",
              "49998   600325.0       5  absinthe recipe book recipe kind compound poss...\n",
              "49999   448336.0       5  dru hill song album good great songs probably ...\n",
              "50000  1837701.0       5  good elo gets agree reviewers elo cds uderappr...\n",
              "50001   567775.0       5  mary mack best albums mary love stuff growth e...\n",
              "\n",
              "[50002 rows x 3 columns]"
            ],
            "text/html": [
              "\n",
              "  <div id=\"df-1a5e6725-5479-451e-8b06-68caf82626e2\">\n",
              "    <div class=\"colab-df-container\">\n",
              "      <div>\n",
              "<style scoped>\n",
              "    .dataframe tbody tr th:only-of-type {\n",
              "        vertical-align: middle;\n",
              "    }\n",
              "\n",
              "    .dataframe tbody tr th {\n",
              "        vertical-align: top;\n",
              "    }\n",
              "\n",
              "    .dataframe thead th {\n",
              "        text-align: right;\n",
              "    }\n",
              "</style>\n",
              "<table border=\"1\" class=\"dataframe\">\n",
              "  <thead>\n",
              "    <tr style=\"text-align: right;\">\n",
              "      <th></th>\n",
              "      <th>Rating</th>\n",
              "      <th>Title</th>\n",
              "      <th>Review</th>\n",
              "    </tr>\n",
              "  </thead>\n",
              "  <tbody>\n",
              "    <tr>\n",
              "      <th>0</th>\n",
              "      <td>NaN</td>\n",
              "      <td>Rating</td>\n",
              "      <td>ReviewFull</td>\n",
              "    </tr>\n",
              "    <tr>\n",
              "      <th>1</th>\n",
              "      <td>NaN</td>\n",
              "      <td>Rating</td>\n",
              "      <td>title review</td>\n",
              "    </tr>\n",
              "    <tr>\n",
              "      <th>2</th>\n",
              "      <td>344444.0</td>\n",
              "      <td>1</td>\n",
              "      <td>big letdown reading positive reviews book look...</td>\n",
              "    </tr>\n",
              "    <tr>\n",
              "      <th>3</th>\n",
              "      <td>818869.0</td>\n",
              "      <td>1</td>\n",
              "      <td>spectacularly bad seen worse comedy promising ...</td>\n",
              "    </tr>\n",
              "    <tr>\n",
              "      <th>4</th>\n",
              "      <td>1272908.0</td>\n",
              "      <td>1</td>\n",
              "      <td>monkees memories magic book poorly edited able...</td>\n",
              "    </tr>\n",
              "    <tr>\n",
              "      <th>...</th>\n",
              "      <td>...</td>\n",
              "      <td>...</td>\n",
              "      <td>...</td>\n",
              "    </tr>\n",
              "    <tr>\n",
              "      <th>49997</th>\n",
              "      <td>296748.0</td>\n",
              "      <td>5</td>\n",
              "      <td>required reading imaging able complete zelda g...</td>\n",
              "    </tr>\n",
              "    <tr>\n",
              "      <th>49998</th>\n",
              "      <td>600325.0</td>\n",
              "      <td>5</td>\n",
              "      <td>absinthe recipe book recipe kind compound poss...</td>\n",
              "    </tr>\n",
              "    <tr>\n",
              "      <th>49999</th>\n",
              "      <td>448336.0</td>\n",
              "      <td>5</td>\n",
              "      <td>dru hill song album good great songs probably ...</td>\n",
              "    </tr>\n",
              "    <tr>\n",
              "      <th>50000</th>\n",
              "      <td>1837701.0</td>\n",
              "      <td>5</td>\n",
              "      <td>good elo gets agree reviewers elo cds uderappr...</td>\n",
              "    </tr>\n",
              "    <tr>\n",
              "      <th>50001</th>\n",
              "      <td>567775.0</td>\n",
              "      <td>5</td>\n",
              "      <td>mary mack best albums mary love stuff growth e...</td>\n",
              "    </tr>\n",
              "  </tbody>\n",
              "</table>\n",
              "<p>50002 rows × 3 columns</p>\n",
              "</div>\n",
              "      <button class=\"colab-df-convert\" onclick=\"convertToInteractive('df-1a5e6725-5479-451e-8b06-68caf82626e2')\"\n",
              "              title=\"Convert this dataframe to an interactive table.\"\n",
              "              style=\"display:none;\">\n",
              "        \n",
              "  <svg xmlns=\"http://www.w3.org/2000/svg\" height=\"24px\"viewBox=\"0 0 24 24\"\n",
              "       width=\"24px\">\n",
              "    <path d=\"M0 0h24v24H0V0z\" fill=\"none\"/>\n",
              "    <path d=\"M18.56 5.44l.94 2.06.94-2.06 2.06-.94-2.06-.94-.94-2.06-.94 2.06-2.06.94zm-11 1L8.5 8.5l.94-2.06 2.06-.94-2.06-.94L8.5 2.5l-.94 2.06-2.06.94zm10 10l.94 2.06.94-2.06 2.06-.94-2.06-.94-.94-2.06-.94 2.06-2.06.94z\"/><path d=\"M17.41 7.96l-1.37-1.37c-.4-.4-.92-.59-1.43-.59-.52 0-1.04.2-1.43.59L10.3 9.45l-7.72 7.72c-.78.78-.78 2.05 0 2.83L4 21.41c.39.39.9.59 1.41.59.51 0 1.02-.2 1.41-.59l7.78-7.78 2.81-2.81c.8-.78.8-2.07 0-2.86zM5.41 20L4 18.59l7.72-7.72 1.47 1.35L5.41 20z\"/>\n",
              "  </svg>\n",
              "      </button>\n",
              "      \n",
              "  <style>\n",
              "    .colab-df-container {\n",
              "      display:flex;\n",
              "      flex-wrap:wrap;\n",
              "      gap: 12px;\n",
              "    }\n",
              "\n",
              "    .colab-df-convert {\n",
              "      background-color: #E8F0FE;\n",
              "      border: none;\n",
              "      border-radius: 50%;\n",
              "      cursor: pointer;\n",
              "      display: none;\n",
              "      fill: #1967D2;\n",
              "      height: 32px;\n",
              "      padding: 0 0 0 0;\n",
              "      width: 32px;\n",
              "    }\n",
              "\n",
              "    .colab-df-convert:hover {\n",
              "      background-color: #E2EBFA;\n",
              "      box-shadow: 0px 1px 2px rgba(60, 64, 67, 0.3), 0px 1px 3px 1px rgba(60, 64, 67, 0.15);\n",
              "      fill: #174EA6;\n",
              "    }\n",
              "\n",
              "    [theme=dark] .colab-df-convert {\n",
              "      background-color: #3B4455;\n",
              "      fill: #D2E3FC;\n",
              "    }\n",
              "\n",
              "    [theme=dark] .colab-df-convert:hover {\n",
              "      background-color: #434B5C;\n",
              "      box-shadow: 0px 1px 3px 1px rgba(0, 0, 0, 0.15);\n",
              "      filter: drop-shadow(0px 1px 2px rgba(0, 0, 0, 0.3));\n",
              "      fill: #FFFFFF;\n",
              "    }\n",
              "  </style>\n",
              "\n",
              "      <script>\n",
              "        const buttonEl =\n",
              "          document.querySelector('#df-1a5e6725-5479-451e-8b06-68caf82626e2 button.colab-df-convert');\n",
              "        buttonEl.style.display =\n",
              "          google.colab.kernel.accessAllowed ? 'block' : 'none';\n",
              "\n",
              "        async function convertToInteractive(key) {\n",
              "          const element = document.querySelector('#df-1a5e6725-5479-451e-8b06-68caf82626e2');\n",
              "          const dataTable =\n",
              "            await google.colab.kernel.invokeFunction('convertToInteractive',\n",
              "                                                     [key], {});\n",
              "          if (!dataTable) return;\n",
              "\n",
              "          const docLinkHtml = 'Like what you see? Visit the ' +\n",
              "            '<a target=\"_blank\" href=https://colab.research.google.com/notebooks/data_table.ipynb>data table notebook</a>'\n",
              "            + ' to learn more about interactive tables.';\n",
              "          element.innerHTML = '';\n",
              "          dataTable['output_type'] = 'display_data';\n",
              "          await google.colab.output.renderOutput(dataTable, element);\n",
              "          const docLink = document.createElement('div');\n",
              "          docLink.innerHTML = docLinkHtml;\n",
              "          element.appendChild(docLink);\n",
              "        }\n",
              "      </script>\n",
              "    </div>\n",
              "  </div>\n",
              "  "
            ]
          },
          "metadata": {}
        }
      ]
    },
    {
      "cell_type": "code",
      "source": [
        "# Check distribution of rating values as this is likely our target variable\n",
        "data[\"Rating\"].value_counts()"
      ],
      "metadata": {
        "colab": {
          "base_uri": "https://localhost:8080/"
        },
        "id": "GeZykT1cbw12",
        "outputId": "f45318b6-b1af-470c-a2e7-02321c5226c5"
      },
      "execution_count": null,
      "outputs": [
        {
          "output_type": "execute_result",
          "data": {
            "text/plain": [
              "344444.0     1\n",
              "1314478.0    1\n",
              "2587451.0    1\n",
              "2604507.0    1\n",
              "577467.0     1\n",
              "            ..\n",
              "1610060.0    1\n",
              "509607.0     1\n",
              "1057848.0    1\n",
              "2969366.0    1\n",
              "567775.0     1\n",
              "Name: Rating, Length: 50000, dtype: int64"
            ]
          },
          "metadata": {},
          "execution_count": 6
        }
      ]
    },
    {
      "cell_type": "code",
      "source": [
        "def preprocess_text(text):\n",
        "    \"\"\"Preprocesses a given string text input\"\"\"\n",
        "    preprocs = [\n",
        "        gpp.strip_tags, \n",
        "        gpp.strip_punctuation,\n",
        "        gpp.strip_multiple_whitespaces,\n",
        "        gpp.strip_numeric,\n",
        "        gpp.remove_stopwords, \n",
        "        gpp.strip_short, \n",
        "    ]\n",
        "    text = gu.to_unicode(text.lower().strip())\n",
        "    for preproc in preprocs:\n",
        "        text = preproc(text)\n",
        "    return text\n",
        "\n",
        "def lemmatize(text):\n",
        "    \"\"\"Lemmatizes a given string text input\"\"\"\n",
        "    wnl = WordNetLemmatizer()\n",
        "    return wnl.lemmatize(text)  "
      ],
      "metadata": {
        "id": "YSWKLbiobxNs"
      },
      "execution_count": null,
      "outputs": []
    },
    {
      "cell_type": "code",
      "source": [
        "# Combining both the above functions into a single preprocessing function\n",
        "preprocess = lambda text: lemmatize(preprocess_text(str(text)))"
      ],
      "metadata": {
        "id": "hjg5p0MEb2NO"
      },
      "execution_count": null,
      "outputs": []
    },
    {
      "cell_type": "code",
      "source": [
        "import nltk\n",
        "nltk.download('omw-1.4')"
      ],
      "metadata": {
        "colab": {
          "base_uri": "https://localhost:8080/"
        },
        "id": "a4Pwn6jvhejN",
        "outputId": "19c94b44-a3e9-4083-9555-25863a8cfa63"
      },
      "execution_count": null,
      "outputs": [
        {
          "output_type": "stream",
          "name": "stderr",
          "text": [
            "[nltk_data] Downloading package omw-1.4 to /root/nltk_data...\n"
          ]
        },
        {
          "output_type": "execute_result",
          "data": {
            "text/plain": [
              "True"
            ]
          },
          "metadata": {},
          "execution_count": 9
        }
      ]
    },
    {
      "cell_type": "code",
      "source": [
        "import nltk\n",
        "nltk.download('wordnet')"
      ],
      "metadata": {
        "colab": {
          "base_uri": "https://localhost:8080/"
        },
        "id": "KmoYGJyYcUIp",
        "outputId": "b5bc1dcf-c1ae-456b-8aa3-c3163e1b9f95"
      },
      "execution_count": null,
      "outputs": [
        {
          "output_type": "stream",
          "name": "stderr",
          "text": [
            "[nltk_data] Downloading package wordnet to /root/nltk_data...\n"
          ]
        },
        {
          "output_type": "execute_result",
          "data": {
            "text/plain": [
              "True"
            ]
          },
          "metadata": {},
          "execution_count": 10
        }
      ]
    },
    {
      "cell_type": "code",
      "source": [
        "# Create the ReviewFull data column\n",
        "data[\"ReviewFull\"] = data[\"Title\"] + \" \" + data[\"Review\"]\n",
        "data = data.drop([\"Title\", \"Review\"], axis=1)"
      ],
      "metadata": {
        "id": "LCZS588ib8uT"
      },
      "execution_count": null,
      "outputs": []
    },
    {
      "cell_type": "code",
      "source": [
        "# Apply the preprocessing to the textual data\n",
        "data[\"ReviewFull\"] = data[\"ReviewFull\"].apply(preprocess)\n",
        "data.head()"
      ],
      "metadata": {
        "colab": {
          "base_uri": "https://localhost:8080/",
          "height": 206
        },
        "id": "IgqjAeAaea7S",
        "outputId": "878c7544-d86c-4cf2-a742-7fd7e453bc1a"
      },
      "execution_count": null,
      "outputs": [
        {
          "output_type": "execute_result",
          "data": {
            "text/plain": [
              "      Rating                                         ReviewFull\n",
              "0        NaN                                  rating reviewfull\n",
              "1        NaN                                rating title review\n",
              "2   344444.0  big letdown reading positive reviews book look...\n",
              "3   818869.0  spectacularly bad seen worse comedy promising ...\n",
              "4  1272908.0  monkees memories magic book poorly edited able..."
            ],
            "text/html": [
              "\n",
              "  <div id=\"df-b32233a1-8bde-4400-9c2e-318b5ff0fc8c\">\n",
              "    <div class=\"colab-df-container\">\n",
              "      <div>\n",
              "<style scoped>\n",
              "    .dataframe tbody tr th:only-of-type {\n",
              "        vertical-align: middle;\n",
              "    }\n",
              "\n",
              "    .dataframe tbody tr th {\n",
              "        vertical-align: top;\n",
              "    }\n",
              "\n",
              "    .dataframe thead th {\n",
              "        text-align: right;\n",
              "    }\n",
              "</style>\n",
              "<table border=\"1\" class=\"dataframe\">\n",
              "  <thead>\n",
              "    <tr style=\"text-align: right;\">\n",
              "      <th></th>\n",
              "      <th>Rating</th>\n",
              "      <th>ReviewFull</th>\n",
              "    </tr>\n",
              "  </thead>\n",
              "  <tbody>\n",
              "    <tr>\n",
              "      <th>0</th>\n",
              "      <td>NaN</td>\n",
              "      <td>rating reviewfull</td>\n",
              "    </tr>\n",
              "    <tr>\n",
              "      <th>1</th>\n",
              "      <td>NaN</td>\n",
              "      <td>rating title review</td>\n",
              "    </tr>\n",
              "    <tr>\n",
              "      <th>2</th>\n",
              "      <td>344444.0</td>\n",
              "      <td>big letdown reading positive reviews book look...</td>\n",
              "    </tr>\n",
              "    <tr>\n",
              "      <th>3</th>\n",
              "      <td>818869.0</td>\n",
              "      <td>spectacularly bad seen worse comedy promising ...</td>\n",
              "    </tr>\n",
              "    <tr>\n",
              "      <th>4</th>\n",
              "      <td>1272908.0</td>\n",
              "      <td>monkees memories magic book poorly edited able...</td>\n",
              "    </tr>\n",
              "  </tbody>\n",
              "</table>\n",
              "</div>\n",
              "      <button class=\"colab-df-convert\" onclick=\"convertToInteractive('df-b32233a1-8bde-4400-9c2e-318b5ff0fc8c')\"\n",
              "              title=\"Convert this dataframe to an interactive table.\"\n",
              "              style=\"display:none;\">\n",
              "        \n",
              "  <svg xmlns=\"http://www.w3.org/2000/svg\" height=\"24px\"viewBox=\"0 0 24 24\"\n",
              "       width=\"24px\">\n",
              "    <path d=\"M0 0h24v24H0V0z\" fill=\"none\"/>\n",
              "    <path d=\"M18.56 5.44l.94 2.06.94-2.06 2.06-.94-2.06-.94-.94-2.06-.94 2.06-2.06.94zm-11 1L8.5 8.5l.94-2.06 2.06-.94-2.06-.94L8.5 2.5l-.94 2.06-2.06.94zm10 10l.94 2.06.94-2.06 2.06-.94-2.06-.94-.94-2.06-.94 2.06-2.06.94z\"/><path d=\"M17.41 7.96l-1.37-1.37c-.4-.4-.92-.59-1.43-.59-.52 0-1.04.2-1.43.59L10.3 9.45l-7.72 7.72c-.78.78-.78 2.05 0 2.83L4 21.41c.39.39.9.59 1.41.59.51 0 1.02-.2 1.41-.59l7.78-7.78 2.81-2.81c.8-.78.8-2.07 0-2.86zM5.41 20L4 18.59l7.72-7.72 1.47 1.35L5.41 20z\"/>\n",
              "  </svg>\n",
              "      </button>\n",
              "      \n",
              "  <style>\n",
              "    .colab-df-container {\n",
              "      display:flex;\n",
              "      flex-wrap:wrap;\n",
              "      gap: 12px;\n",
              "    }\n",
              "\n",
              "    .colab-df-convert {\n",
              "      background-color: #E8F0FE;\n",
              "      border: none;\n",
              "      border-radius: 50%;\n",
              "      cursor: pointer;\n",
              "      display: none;\n",
              "      fill: #1967D2;\n",
              "      height: 32px;\n",
              "      padding: 0 0 0 0;\n",
              "      width: 32px;\n",
              "    }\n",
              "\n",
              "    .colab-df-convert:hover {\n",
              "      background-color: #E2EBFA;\n",
              "      box-shadow: 0px 1px 2px rgba(60, 64, 67, 0.3), 0px 1px 3px 1px rgba(60, 64, 67, 0.15);\n",
              "      fill: #174EA6;\n",
              "    }\n",
              "\n",
              "    [theme=dark] .colab-df-convert {\n",
              "      background-color: #3B4455;\n",
              "      fill: #D2E3FC;\n",
              "    }\n",
              "\n",
              "    [theme=dark] .colab-df-convert:hover {\n",
              "      background-color: #434B5C;\n",
              "      box-shadow: 0px 1px 3px 1px rgba(0, 0, 0, 0.15);\n",
              "      filter: drop-shadow(0px 1px 2px rgba(0, 0, 0, 0.3));\n",
              "      fill: #FFFFFF;\n",
              "    }\n",
              "  </style>\n",
              "\n",
              "      <script>\n",
              "        const buttonEl =\n",
              "          document.querySelector('#df-b32233a1-8bde-4400-9c2e-318b5ff0fc8c button.colab-df-convert');\n",
              "        buttonEl.style.display =\n",
              "          google.colab.kernel.accessAllowed ? 'block' : 'none';\n",
              "\n",
              "        async function convertToInteractive(key) {\n",
              "          const element = document.querySelector('#df-b32233a1-8bde-4400-9c2e-318b5ff0fc8c');\n",
              "          const dataTable =\n",
              "            await google.colab.kernel.invokeFunction('convertToInteractive',\n",
              "                                                     [key], {});\n",
              "          if (!dataTable) return;\n",
              "\n",
              "          const docLinkHtml = 'Like what you see? Visit the ' +\n",
              "            '<a target=\"_blank\" href=https://colab.research.google.com/notebooks/data_table.ipynb>data table notebook</a>'\n",
              "            + ' to learn more about interactive tables.';\n",
              "          element.innerHTML = '';\n",
              "          dataTable['output_type'] = 'display_data';\n",
              "          await google.colab.output.renderOutput(dataTable, element);\n",
              "          const docLink = document.createElement('div');\n",
              "          docLink.innerHTML = docLinkHtml;\n",
              "          element.appendChild(docLink);\n",
              "        }\n",
              "      </script>\n",
              "    </div>\n",
              "  </div>\n",
              "  "
            ]
          },
          "metadata": {},
          "execution_count": 12
        }
      ]
    },
    {
      "cell_type": "code",
      "source": [
        "# Save the data\n",
        "data.to_csv(join(data_dir, \"/content/drive/MyDrive/New folder (3)/train.csv\"))"
      ],
      "metadata": {
        "id": "CDu5x_cGo1qy"
      },
      "execution_count": null,
      "outputs": []
    },
    {
      "cell_type": "code",
      "source": [
        "# Save the data\n",
        "data.to_csv(join(data_dir, \"/content/drive/MyDrive/New folder (3)/train.csv\"))\n"
      ],
      "metadata": {
        "id": "JgH9mp04hY3S"
      },
      "execution_count": null,
      "outputs": []
    },
    {
      "cell_type": "code",
      "source": [
        "downsampled = data.groupby(\"Rating\").sample(10000).\n",
        "display(downsampled)"
      ],
      "metadata": {
        "colab": {
          "base_uri": "https://localhost:8080/",
          "height": 130
        },
        "id": "P5lsCAc4ipKu",
        "outputId": "7c2eb499-de99-403e-db58-247b69cd990a"
      },
      "execution_count": null,
      "outputs": [
        {
          "output_type": "error",
          "ename": "SyntaxError",
          "evalue": "ignored",
          "traceback": [
            "\u001b[0;36m  File \u001b[0;32m\"<ipython-input-24-d0a6485f2724>\"\u001b[0;36m, line \u001b[0;32m1\u001b[0m\n\u001b[0;31m    downsampled = data.groupby(\"Rating\").sample(10000).\u001b[0m\n\u001b[0m                                                       ^\u001b[0m\n\u001b[0;31mSyntaxError\u001b[0m\u001b[0;31m:\u001b[0m invalid syntax\n"
          ]
        }
      ]
    },
    {
      "cell_type": "code",
      "source": [
        "# Ensure equal distribution of targets\n",
        "downsampled[\"Rating\"].value_counts()"
      ],
      "metadata": {
        "colab": {
          "base_uri": "https://localhost:8080/",
          "height": 182
        },
        "id": "QQOgYntslo07",
        "outputId": "78828ed5-2978-4c37-d439-ea712186ff23"
      },
      "execution_count": null,
      "outputs": [
        {
          "output_type": "error",
          "ename": "NameError",
          "evalue": "ignored",
          "traceback": [
            "\u001b[0;31m---------------------------------------------------------------------------\u001b[0m",
            "\u001b[0;31mNameError\u001b[0m                                 Traceback (most recent call last)",
            "\u001b[0;32m<ipython-input-27-d102c46668b1>\u001b[0m in \u001b[0;36m<module>\u001b[0;34m\u001b[0m\n\u001b[1;32m      1\u001b[0m \u001b[0;31m# Ensure equal distribution of targets\u001b[0m\u001b[0;34m\u001b[0m\u001b[0;34m\u001b[0m\u001b[0;34m\u001b[0m\u001b[0m\n\u001b[0;32m----> 2\u001b[0;31m \u001b[0mdownsampled\u001b[0m\u001b[0;34m[\u001b[0m\u001b[0;34m\"Rating\"\u001b[0m\u001b[0;34m]\u001b[0m\u001b[0;34m.\u001b[0m\u001b[0mvalue_counts\u001b[0m\u001b[0;34m(\u001b[0m\u001b[0;34m)\u001b[0m\u001b[0;34m\u001b[0m\u001b[0;34m\u001b[0m\u001b[0m\n\u001b[0m",
            "\u001b[0;31mNameError\u001b[0m: name 'downsampled' is not defined"
          ]
        }
      ]
    },
    {
      "cell_type": "code",
      "source": [
        "# Save data\n",
        "downsampled.to_csv(join(data_dir, \"/content/drive/MyDrive/New folder (3)/train.csv\"))"
      ],
      "metadata": {
        "id": "hkcwHcsklxLi",
        "colab": {
          "base_uri": "https://localhost:8080/",
          "height": 182
        },
        "outputId": "4902618c-b8bd-44e0-eefb-f9201ff8fee9"
      },
      "execution_count": null,
      "outputs": [
        {
          "output_type": "error",
          "ename": "NameError",
          "evalue": "ignored",
          "traceback": [
            "\u001b[0;31m---------------------------------------------------------------------------\u001b[0m",
            "\u001b[0;31mNameError\u001b[0m                                 Traceback (most recent call last)",
            "\u001b[0;32m<ipython-input-26-4096b0b1df93>\u001b[0m in \u001b[0;36m<module>\u001b[0;34m\u001b[0m\n\u001b[1;32m      1\u001b[0m \u001b[0;31m# Save data\u001b[0m\u001b[0;34m\u001b[0m\u001b[0;34m\u001b[0m\u001b[0;34m\u001b[0m\u001b[0m\n\u001b[0;32m----> 2\u001b[0;31m \u001b[0mdownsampled\u001b[0m\u001b[0;34m.\u001b[0m\u001b[0mto_csv\u001b[0m\u001b[0;34m(\u001b[0m\u001b[0mjoin\u001b[0m\u001b[0;34m(\u001b[0m\u001b[0mdata_dir\u001b[0m\u001b[0;34m,\u001b[0m \u001b[0;34m\"/content/drive/MyDrive/New folder (3)/train.csv\"\u001b[0m\u001b[0;34m)\u001b[0m\u001b[0;34m)\u001b[0m\u001b[0;34m\u001b[0m\u001b[0;34m\u001b[0m\u001b[0m\n\u001b[0m",
            "\u001b[0;31mNameError\u001b[0m: name 'downsampled' is not defined"
          ]
        }
      ]
    },
    {
      "cell_type": "code",
      "source": [
        "# General Imports\n",
        "import pandas as pd\n",
        "import numpy as np\n",
        "import pickle\n",
        "import matplotlib.pyplot as plt\n",
        "from os.path import join\n",
        "\n",
        "# EDA related imports\n",
        "from collections import Counter\n",
        "from textblob import TextBlob\n",
        "from sklearn.feature_extraction.text import TfidfVectorizer\n",
        "from sklearn.decomposition import NMF"
      ],
      "metadata": {
        "id": "vZ6l2Tjyl02y"
      },
      "execution_count": null,
      "outputs": []
    },
    {
      "cell_type": "code",
      "source": [
        "# Load the downsampled preprocessed data\n",
        "data_dir = \"data/\"\n",
        "data = pd.read_csv(join(data_dir, \"/content/drive/MyDrive/New folder (3)/train.csv\"))[[\"Rating\", \"ReviewFull\"]]\n",
        "data[\"ReviewFull\"] = data[\"ReviewFull\"].apply(str)\n",
        "display(data)"
      ],
      "metadata": {
        "colab": {
          "base_uri": "https://localhost:8080/",
          "height": 423
        },
        "id": "mfe6GrRhmFLU",
        "outputId": "6e78071c-fd6c-4239-caac-a24cbcf3f0e7"
      },
      "execution_count": null,
      "outputs": [
        {
          "output_type": "display_data",
          "data": {
            "text/plain": [
              "          Rating                                         ReviewFull\n",
              "0            NaN                                  rating reviewfull\n",
              "1            NaN                                rating title review\n",
              "2       344444.0  big letdown reading positive reviews book look...\n",
              "3       818869.0  spectacularly bad seen worse comedy promising ...\n",
              "4      1272908.0  monkees memories magic book poorly edited able...\n",
              "...          ...                                                ...\n",
              "49997   296748.0  required reading imaging able complete zelda g...\n",
              "49998   600325.0  absinthe recipe book recipe kind compound poss...\n",
              "49999   448336.0  dru hill song album good great songs probably ...\n",
              "50000  1837701.0  good elo gets agree reviewers elo cds uderappr...\n",
              "50001   567775.0  mary mack best albums mary love stuff growth e...\n",
              "\n",
              "[50002 rows x 2 columns]"
            ],
            "text/html": [
              "\n",
              "  <div id=\"df-88478bde-3ede-4569-8ca4-cb1f2212d35f\">\n",
              "    <div class=\"colab-df-container\">\n",
              "      <div>\n",
              "<style scoped>\n",
              "    .dataframe tbody tr th:only-of-type {\n",
              "        vertical-align: middle;\n",
              "    }\n",
              "\n",
              "    .dataframe tbody tr th {\n",
              "        vertical-align: top;\n",
              "    }\n",
              "\n",
              "    .dataframe thead th {\n",
              "        text-align: right;\n",
              "    }\n",
              "</style>\n",
              "<table border=\"1\" class=\"dataframe\">\n",
              "  <thead>\n",
              "    <tr style=\"text-align: right;\">\n",
              "      <th></th>\n",
              "      <th>Rating</th>\n",
              "      <th>ReviewFull</th>\n",
              "    </tr>\n",
              "  </thead>\n",
              "  <tbody>\n",
              "    <tr>\n",
              "      <th>0</th>\n",
              "      <td>NaN</td>\n",
              "      <td>rating reviewfull</td>\n",
              "    </tr>\n",
              "    <tr>\n",
              "      <th>1</th>\n",
              "      <td>NaN</td>\n",
              "      <td>rating title review</td>\n",
              "    </tr>\n",
              "    <tr>\n",
              "      <th>2</th>\n",
              "      <td>344444.0</td>\n",
              "      <td>big letdown reading positive reviews book look...</td>\n",
              "    </tr>\n",
              "    <tr>\n",
              "      <th>3</th>\n",
              "      <td>818869.0</td>\n",
              "      <td>spectacularly bad seen worse comedy promising ...</td>\n",
              "    </tr>\n",
              "    <tr>\n",
              "      <th>4</th>\n",
              "      <td>1272908.0</td>\n",
              "      <td>monkees memories magic book poorly edited able...</td>\n",
              "    </tr>\n",
              "    <tr>\n",
              "      <th>...</th>\n",
              "      <td>...</td>\n",
              "      <td>...</td>\n",
              "    </tr>\n",
              "    <tr>\n",
              "      <th>49997</th>\n",
              "      <td>296748.0</td>\n",
              "      <td>required reading imaging able complete zelda g...</td>\n",
              "    </tr>\n",
              "    <tr>\n",
              "      <th>49998</th>\n",
              "      <td>600325.0</td>\n",
              "      <td>absinthe recipe book recipe kind compound poss...</td>\n",
              "    </tr>\n",
              "    <tr>\n",
              "      <th>49999</th>\n",
              "      <td>448336.0</td>\n",
              "      <td>dru hill song album good great songs probably ...</td>\n",
              "    </tr>\n",
              "    <tr>\n",
              "      <th>50000</th>\n",
              "      <td>1837701.0</td>\n",
              "      <td>good elo gets agree reviewers elo cds uderappr...</td>\n",
              "    </tr>\n",
              "    <tr>\n",
              "      <th>50001</th>\n",
              "      <td>567775.0</td>\n",
              "      <td>mary mack best albums mary love stuff growth e...</td>\n",
              "    </tr>\n",
              "  </tbody>\n",
              "</table>\n",
              "<p>50002 rows × 2 columns</p>\n",
              "</div>\n",
              "      <button class=\"colab-df-convert\" onclick=\"convertToInteractive('df-88478bde-3ede-4569-8ca4-cb1f2212d35f')\"\n",
              "              title=\"Convert this dataframe to an interactive table.\"\n",
              "              style=\"display:none;\">\n",
              "        \n",
              "  <svg xmlns=\"http://www.w3.org/2000/svg\" height=\"24px\"viewBox=\"0 0 24 24\"\n",
              "       width=\"24px\">\n",
              "    <path d=\"M0 0h24v24H0V0z\" fill=\"none\"/>\n",
              "    <path d=\"M18.56 5.44l.94 2.06.94-2.06 2.06-.94-2.06-.94-.94-2.06-.94 2.06-2.06.94zm-11 1L8.5 8.5l.94-2.06 2.06-.94-2.06-.94L8.5 2.5l-.94 2.06-2.06.94zm10 10l.94 2.06.94-2.06 2.06-.94-2.06-.94-.94-2.06-.94 2.06-2.06.94z\"/><path d=\"M17.41 7.96l-1.37-1.37c-.4-.4-.92-.59-1.43-.59-.52 0-1.04.2-1.43.59L10.3 9.45l-7.72 7.72c-.78.78-.78 2.05 0 2.83L4 21.41c.39.39.9.59 1.41.59.51 0 1.02-.2 1.41-.59l7.78-7.78 2.81-2.81c.8-.78.8-2.07 0-2.86zM5.41 20L4 18.59l7.72-7.72 1.47 1.35L5.41 20z\"/>\n",
              "  </svg>\n",
              "      </button>\n",
              "      \n",
              "  <style>\n",
              "    .colab-df-container {\n",
              "      display:flex;\n",
              "      flex-wrap:wrap;\n",
              "      gap: 12px;\n",
              "    }\n",
              "\n",
              "    .colab-df-convert {\n",
              "      background-color: #E8F0FE;\n",
              "      border: none;\n",
              "      border-radius: 50%;\n",
              "      cursor: pointer;\n",
              "      display: none;\n",
              "      fill: #1967D2;\n",
              "      height: 32px;\n",
              "      padding: 0 0 0 0;\n",
              "      width: 32px;\n",
              "    }\n",
              "\n",
              "    .colab-df-convert:hover {\n",
              "      background-color: #E2EBFA;\n",
              "      box-shadow: 0px 1px 2px rgba(60, 64, 67, 0.3), 0px 1px 3px 1px rgba(60, 64, 67, 0.15);\n",
              "      fill: #174EA6;\n",
              "    }\n",
              "\n",
              "    [theme=dark] .colab-df-convert {\n",
              "      background-color: #3B4455;\n",
              "      fill: #D2E3FC;\n",
              "    }\n",
              "\n",
              "    [theme=dark] .colab-df-convert:hover {\n",
              "      background-color: #434B5C;\n",
              "      box-shadow: 0px 1px 3px 1px rgba(0, 0, 0, 0.15);\n",
              "      filter: drop-shadow(0px 1px 2px rgba(0, 0, 0, 0.3));\n",
              "      fill: #FFFFFF;\n",
              "    }\n",
              "  </style>\n",
              "\n",
              "      <script>\n",
              "        const buttonEl =\n",
              "          document.querySelector('#df-88478bde-3ede-4569-8ca4-cb1f2212d35f button.colab-df-convert');\n",
              "        buttonEl.style.display =\n",
              "          google.colab.kernel.accessAllowed ? 'block' : 'none';\n",
              "\n",
              "        async function convertToInteractive(key) {\n",
              "          const element = document.querySelector('#df-88478bde-3ede-4569-8ca4-cb1f2212d35f');\n",
              "          const dataTable =\n",
              "            await google.colab.kernel.invokeFunction('convertToInteractive',\n",
              "                                                     [key], {});\n",
              "          if (!dataTable) return;\n",
              "\n",
              "          const docLinkHtml = 'Like what you see? Visit the ' +\n",
              "            '<a target=\"_blank\" href=https://colab.research.google.com/notebooks/data_table.ipynb>data table notebook</a>'\n",
              "            + ' to learn more about interactive tables.';\n",
              "          element.innerHTML = '';\n",
              "          dataTable['output_type'] = 'display_data';\n",
              "          await google.colab.output.renderOutput(dataTable, element);\n",
              "          const docLink = document.createElement('div');\n",
              "          docLink.innerHTML = docLinkHtml;\n",
              "          element.appendChild(docLink);\n",
              "        }\n",
              "      </script>\n",
              "    </div>\n",
              "  </div>\n",
              "  "
            ]
          },
          "metadata": {}
        }
      ]
    },
    {
      "cell_type": "code",
      "source": [
        "# Define function to extract a string's sentiment\n",
        "find_sentiment = lambda text: TextBlob(text).sentiment.polarity\n",
        "\n",
        "# Create new column in dataframe\n",
        "data[\"sentiment\"] = data[\"ReviewFull\"].apply(find_sentiment)"
      ],
      "metadata": {
        "id": "TxPwSoohmH08"
      },
      "execution_count": null,
      "outputs": []
    },
    {
      "cell_type": "code",
      "source": [
        "data"
      ],
      "metadata": {
        "colab": {
          "base_uri": "https://localhost:8080/",
          "height": 423
        },
        "id": "CryQjlZbr3R2",
        "outputId": "26a90fe7-2169-41a9-fb3e-560ee31d8c53"
      },
      "execution_count": null,
      "outputs": [
        {
          "output_type": "execute_result",
          "data": {
            "text/plain": [
              "          Rating                                         ReviewFull  sentiment\n",
              "0            NaN                                  rating reviewfull   0.000000\n",
              "1            NaN                                rating title review   0.000000\n",
              "2       344444.0  big letdown reading positive reviews book look...  -0.064899\n",
              "3       818869.0  spectacularly bad seen worse comedy promising ...  -0.070308\n",
              "4      1272908.0  monkees memories magic book poorly edited able...   0.085470\n",
              "...          ...                                                ...        ...\n",
              "49997   296748.0  required reading imaging able complete zelda g...   0.248909\n",
              "49998   600325.0  absinthe recipe book recipe kind compound poss...   0.475000\n",
              "49999   448336.0  dru hill song album good great songs probably ...   0.437500\n",
              "50000  1837701.0  good elo gets agree reviewers elo cds uderappr...   0.351563\n",
              "50001   567775.0  mary mack best albums mary love stuff growth e...   0.562500\n",
              "\n",
              "[50002 rows x 3 columns]"
            ],
            "text/html": [
              "\n",
              "  <div id=\"df-37a956fc-d84f-4dbe-8f7f-53c83c0157d6\">\n",
              "    <div class=\"colab-df-container\">\n",
              "      <div>\n",
              "<style scoped>\n",
              "    .dataframe tbody tr th:only-of-type {\n",
              "        vertical-align: middle;\n",
              "    }\n",
              "\n",
              "    .dataframe tbody tr th {\n",
              "        vertical-align: top;\n",
              "    }\n",
              "\n",
              "    .dataframe thead th {\n",
              "        text-align: right;\n",
              "    }\n",
              "</style>\n",
              "<table border=\"1\" class=\"dataframe\">\n",
              "  <thead>\n",
              "    <tr style=\"text-align: right;\">\n",
              "      <th></th>\n",
              "      <th>Rating</th>\n",
              "      <th>ReviewFull</th>\n",
              "      <th>sentiment</th>\n",
              "    </tr>\n",
              "  </thead>\n",
              "  <tbody>\n",
              "    <tr>\n",
              "      <th>0</th>\n",
              "      <td>NaN</td>\n",
              "      <td>rating reviewfull</td>\n",
              "      <td>0.000000</td>\n",
              "    </tr>\n",
              "    <tr>\n",
              "      <th>1</th>\n",
              "      <td>NaN</td>\n",
              "      <td>rating title review</td>\n",
              "      <td>0.000000</td>\n",
              "    </tr>\n",
              "    <tr>\n",
              "      <th>2</th>\n",
              "      <td>344444.0</td>\n",
              "      <td>big letdown reading positive reviews book look...</td>\n",
              "      <td>-0.064899</td>\n",
              "    </tr>\n",
              "    <tr>\n",
              "      <th>3</th>\n",
              "      <td>818869.0</td>\n",
              "      <td>spectacularly bad seen worse comedy promising ...</td>\n",
              "      <td>-0.070308</td>\n",
              "    </tr>\n",
              "    <tr>\n",
              "      <th>4</th>\n",
              "      <td>1272908.0</td>\n",
              "      <td>monkees memories magic book poorly edited able...</td>\n",
              "      <td>0.085470</td>\n",
              "    </tr>\n",
              "    <tr>\n",
              "      <th>...</th>\n",
              "      <td>...</td>\n",
              "      <td>...</td>\n",
              "      <td>...</td>\n",
              "    </tr>\n",
              "    <tr>\n",
              "      <th>49997</th>\n",
              "      <td>296748.0</td>\n",
              "      <td>required reading imaging able complete zelda g...</td>\n",
              "      <td>0.248909</td>\n",
              "    </tr>\n",
              "    <tr>\n",
              "      <th>49998</th>\n",
              "      <td>600325.0</td>\n",
              "      <td>absinthe recipe book recipe kind compound poss...</td>\n",
              "      <td>0.475000</td>\n",
              "    </tr>\n",
              "    <tr>\n",
              "      <th>49999</th>\n",
              "      <td>448336.0</td>\n",
              "      <td>dru hill song album good great songs probably ...</td>\n",
              "      <td>0.437500</td>\n",
              "    </tr>\n",
              "    <tr>\n",
              "      <th>50000</th>\n",
              "      <td>1837701.0</td>\n",
              "      <td>good elo gets agree reviewers elo cds uderappr...</td>\n",
              "      <td>0.351563</td>\n",
              "    </tr>\n",
              "    <tr>\n",
              "      <th>50001</th>\n",
              "      <td>567775.0</td>\n",
              "      <td>mary mack best albums mary love stuff growth e...</td>\n",
              "      <td>0.562500</td>\n",
              "    </tr>\n",
              "  </tbody>\n",
              "</table>\n",
              "<p>50002 rows × 3 columns</p>\n",
              "</div>\n",
              "      <button class=\"colab-df-convert\" onclick=\"convertToInteractive('df-37a956fc-d84f-4dbe-8f7f-53c83c0157d6')\"\n",
              "              title=\"Convert this dataframe to an interactive table.\"\n",
              "              style=\"display:none;\">\n",
              "        \n",
              "  <svg xmlns=\"http://www.w3.org/2000/svg\" height=\"24px\"viewBox=\"0 0 24 24\"\n",
              "       width=\"24px\">\n",
              "    <path d=\"M0 0h24v24H0V0z\" fill=\"none\"/>\n",
              "    <path d=\"M18.56 5.44l.94 2.06.94-2.06 2.06-.94-2.06-.94-.94-2.06-.94 2.06-2.06.94zm-11 1L8.5 8.5l.94-2.06 2.06-.94-2.06-.94L8.5 2.5l-.94 2.06-2.06.94zm10 10l.94 2.06.94-2.06 2.06-.94-2.06-.94-.94-2.06-.94 2.06-2.06.94z\"/><path d=\"M17.41 7.96l-1.37-1.37c-.4-.4-.92-.59-1.43-.59-.52 0-1.04.2-1.43.59L10.3 9.45l-7.72 7.72c-.78.78-.78 2.05 0 2.83L4 21.41c.39.39.9.59 1.41.59.51 0 1.02-.2 1.41-.59l7.78-7.78 2.81-2.81c.8-.78.8-2.07 0-2.86zM5.41 20L4 18.59l7.72-7.72 1.47 1.35L5.41 20z\"/>\n",
              "  </svg>\n",
              "      </button>\n",
              "      \n",
              "  <style>\n",
              "    .colab-df-container {\n",
              "      display:flex;\n",
              "      flex-wrap:wrap;\n",
              "      gap: 12px;\n",
              "    }\n",
              "\n",
              "    .colab-df-convert {\n",
              "      background-color: #E8F0FE;\n",
              "      border: none;\n",
              "      border-radius: 50%;\n",
              "      cursor: pointer;\n",
              "      display: none;\n",
              "      fill: #1967D2;\n",
              "      height: 32px;\n",
              "      padding: 0 0 0 0;\n",
              "      width: 32px;\n",
              "    }\n",
              "\n",
              "    .colab-df-convert:hover {\n",
              "      background-color: #E2EBFA;\n",
              "      box-shadow: 0px 1px 2px rgba(60, 64, 67, 0.3), 0px 1px 3px 1px rgba(60, 64, 67, 0.15);\n",
              "      fill: #174EA6;\n",
              "    }\n",
              "\n",
              "    [theme=dark] .colab-df-convert {\n",
              "      background-color: #3B4455;\n",
              "      fill: #D2E3FC;\n",
              "    }\n",
              "\n",
              "    [theme=dark] .colab-df-convert:hover {\n",
              "      background-color: #434B5C;\n",
              "      box-shadow: 0px 1px 3px 1px rgba(0, 0, 0, 0.15);\n",
              "      filter: drop-shadow(0px 1px 2px rgba(0, 0, 0, 0.3));\n",
              "      fill: #FFFFFF;\n",
              "    }\n",
              "  </style>\n",
              "\n",
              "      <script>\n",
              "        const buttonEl =\n",
              "          document.querySelector('#df-37a956fc-d84f-4dbe-8f7f-53c83c0157d6 button.colab-df-convert');\n",
              "        buttonEl.style.display =\n",
              "          google.colab.kernel.accessAllowed ? 'block' : 'none';\n",
              "\n",
              "        async function convertToInteractive(key) {\n",
              "          const element = document.querySelector('#df-37a956fc-d84f-4dbe-8f7f-53c83c0157d6');\n",
              "          const dataTable =\n",
              "            await google.colab.kernel.invokeFunction('convertToInteractive',\n",
              "                                                     [key], {});\n",
              "          if (!dataTable) return;\n",
              "\n",
              "          const docLinkHtml = 'Like what you see? Visit the ' +\n",
              "            '<a target=\"_blank\" href=https://colab.research.google.com/notebooks/data_table.ipynb>data table notebook</a>'\n",
              "            + ' to learn more about interactive tables.';\n",
              "          element.innerHTML = '';\n",
              "          dataTable['output_type'] = 'display_data';\n",
              "          await google.colab.output.renderOutput(dataTable, element);\n",
              "          const docLink = document.createElement('div');\n",
              "          docLink.innerHTML = docLinkHtml;\n",
              "          element.appendChild(docLink);\n",
              "        }\n",
              "      </script>\n",
              "    </div>\n",
              "  </div>\n",
              "  "
            ]
          },
          "metadata": {},
          "execution_count": 31
        }
      ]
    },
    {
      "cell_type": "code",
      "source": [
        "# Plot mean sentiment against rating \n",
        "for rating in range(1,6):\n",
        "    print(f\"Mean Sentiment for Rating {rating}: {data[data['Rating'] == rating]['sentiment'].mean()}\")\n",
        "\n",
        "data.groupby(\"Rating\")[\"sentiment\"].mean().plot(kind=\"bar\")"
      ],
      "metadata": {
        "colab": {
          "base_uri": "https://localhost:8080/",
          "height": 427
        },
        "id": "9cVj3jU2r_Mo",
        "outputId": "ec0b4414-6426-482a-cbb4-ccf7e57f1b5b"
      },
      "execution_count": null,
      "outputs": [
        {
          "output_type": "stream",
          "name": "stdout",
          "text": [
            "Mean Sentiment for Rating 1: nan\n",
            "Mean Sentiment for Rating 2: nan\n",
            "Mean Sentiment for Rating 3: nan\n",
            "Mean Sentiment for Rating 4: nan\n",
            "Mean Sentiment for Rating 5: nan\n"
          ]
        },
        {
          "output_type": "execute_result",
          "data": {
            "text/plain": [
              "<matplotlib.axes._subplots.AxesSubplot at 0x7f360b876b50>"
            ]
          },
          "metadata": {},
          "execution_count": 34
        },
        {
          "output_type": "display_data",
          "data": {
            "text/plain": [
              "<Figure size 432x288 with 1 Axes>"
            ],
            "image/png": "[encoded data removed]"
          },
          "metadata": {
            "needs_background": "light"
          }
        }
      ]
    },
    {
      "cell_type": "code",
      "source": [
        "plt.scatter(data[\"sentiment\"], data[\"Rating\"])\n",
        "plt.xlabel(\"Sentiment\")\n",
        "plt.ylabel(\"Rating\")\n",
        "plt.show()\n"
      ],
      "metadata": {
        "colab": {
          "base_uri": "https://localhost:8080/",
          "height": 290
        },
        "id": "MsZqc0SisEUH",
        "outputId": "1ed2add7-1ceb-4d7a-a5a6-55761f0e5f59"
      },
      "execution_count": null,
      "outputs": [
        {
          "output_type": "display_data",
          "data": {
            "text/plain": [
              "<Figure size 432x288 with 1 Axes>"
            ],
            "image/png": "[encoded data removed]"
          },
          "metadata": {
            "needs_background": "light"
          }
        }
      ]
    },
    {
      "cell_type": "code",
      "source": [
        "# Function for finding n nost common words in a series\n",
        "num_most_common = 25\n",
        "find_n_most_common = lambda text, n: Counter(' '.join(text).split()).most_common(n)\n",
        "most_common = data.groupby(\"Rating\")[\"ReviewFull\"].apply(lambda x: find_n_most_common(x, num_most_common))\n",
        "\n",
        "for rating in range(1,6):\n",
        "    idx = rating - 1\n",
        "    print(f\"Most Common Words for Rating {rating} sorted by sentiment: \")   \n",
        "    # Display the most common words in each rating sorted by sentiment \n",
        "    print(list(sorted(most_common.iloc[idx], key=lambda x: TextBlob(x[0]).sentiment.polarity)))\n",
        "    print(\"\\n\")"
      ],
      "metadata": {
        "colab": {
          "base_uri": "https://localhost:8080/"
        },
        "id": "7jWs4r2-sIDX",
        "outputId": "2e6b7aed-2de8-4060-c7c8-3e4811034994"
      },
      "execution_count": null,
      "outputs": [
        {
          "output_type": "stream",
          "name": "stdout",
          "text": [
            "Most Common Words for Rating 1 sorted by sentiment: \n",
            "[('ugly', 1), ('remote', 1), ('player', 2), ('wish', 1), ('change', 1), ('things', 1), ('overall', 1), ('works', 1), ('set', 1), ('display', 1), ('orange', 1), ('lettering', 1), ('reminds', 1), ('alarm', 1), ('clock', 1), ('displays', 1), ('minutes', 1), ('seconds', 1), ('lack', 1), ('universal', 1), ('drawback', 1), ('easy', 1), ('good', 1), ('fairly', 1), ('great', 1)]\n",
            "\n",
            "\n",
            "Most Common Words for Rating 2 sorted by sentiment: \n",
            "[('wave', 2), ('record', 2), ('artists', 2), ('read', 1), ('prior', 1), ('reviews', 1), ('buying', 1), ('appears', 1), ('collection', 1), ('singles', 1), ('cover', 1), ('versions', 1), ('sung', 1), ('starlite', 1), ('singers', 1), ('description', 1), ('says', 1), ('implying', 1), ('total', 1), ('garbage', 1), ('spot', 1), ('new', 2), ('true', 1), ('original', 1), ('bright', 1)]\n",
            "\n",
            "\n",
            "Most Common Words for Rating 3 sorted by sentiment: \n",
            "[('waste', 1), ('half', 1), ('adam', 2), ('sandler', 2), ('time', 1), ('people', 1), ('got', 1), ('chance', 1), ('screen', 1), ('decided', 1), ('shot', 1), ('took', 1), ('hour', 1), ('stopped', 1), ('watching', 1), ('liked', 1), ('talented', 1)]\n",
            "\n",
            "\n",
            "Most Common Words for Rating 4 sorted by sentiment: \n",
            "[('jfk', 3), ('article', 2), ('jean', 2), ('hill', 2), ('lady', 2), ('red', 2), ('online', 1), ('writing', 1), ('review', 1), ('dissenting', 1), ('witness', 1), ('page', 1), ('included', 1), ('clint', 1), ('bradford', 1), ('assassination', 1), ('website', 1), ('address', 1), ('http', 1), ('www', 1), ('info', 1), ('com', 1), ('sitemap', 1), ('htm', 1), ('able', 1)]\n",
            "\n",
            "\n",
            "Most Common Words for Rating 5 sorted by sentiment: \n",
            "[('insulting', 1), ('unrealistic', 1), ('silly', 1), ('implausible', 1), ('thriller', 1), ('book', 1), ('spoils', 1), ('killers', 1), ('like', 1), ('temple', 1), ('gault', 1), ('clone', 1), ('satan', 1), ('incarnate', 1), ('known', 1), ('hannibal', 1), ('lecter', 1), ('character', 1), ('dimensional', 1), ('intrigue', 1), ('computers', 1), ('intelligence', 1), ('wildly', 1), ('fun', 1), ('super', 3)]\n",
            "\n",
            "\n"
          ]
        }
      ]
    },
    {
      "cell_type": "code",
      "source": [
        "def display_topics(model, words, num_top_words):\n",
        "    \"\"\"Function to display the top num_top_words topic words given an NMF model and word vocabulary\"\"\"\n",
        "    for topic_idx, topic in enumerate(model.components_):\n",
        "        print(\"Topic %d:\" % (topic_idx))\n",
        "        print(\" \".join([words[i]\n",
        "                          for i in topic.argsort()[:-num_top_words - 1:-1]]))"
      ],
      "metadata": {
        "id": "H2dSqVYzsL9J"
      },
      "execution_count": null,
      "outputs": []
    },
    {
      "cell_type": "code",
      "source": [
        "def display_topics(model, words, num_top_words):\n",
        "    \"\"\"Function to display the top num_top_words topic words given an NMF model and word vocabulary\"\"\"\n",
        "    for topic_idx, topic in enumerate(model.components_):\n",
        "        print(\"Topic %d:\" % (topic_idx))\n",
        "        print(\" \".join([words[i]\n",
        "                          for i in topic.argsort()[:-num_top_words - 1:-1]]))"
      ],
      "metadata": {
        "colab": {
          "base_uri": "https://localhost:8080/",
          "height": 478
        },
        "id": "PchHZPlUsQuw",
        "outputId": "bea9f9cc-4ecd-470f-bccf-cbf218f08f2b"
      },
      "execution_count": null,
      "outputs": [
        {
          "output_type": "stream",
          "name": "stderr",
          "text": [
            "/usr/local/lib/python3.8/dist-packages/sklearn/utils/deprecation.py:87: FutureWarning: Function get_feature_names is deprecated; get_feature_names is deprecated in 1.0 and will be removed in 1.2. Please use get_feature_names_out instead.\n",
            "  warnings.warn(msg, category=FutureWarning)\n"
          ]
        },
        {
          "output_type": "execute_result",
          "data": {
            "text/plain": [
              "       abilities  ability      able  absolute  absolutely  absurd  abuse  \\\n",
              "0            0.0      0.0  0.000000       0.0    0.000000     0.0    0.0   \n",
              "1            0.0      0.0  0.000000       0.0    0.000000     0.0    0.0   \n",
              "2            0.0      0.0  0.000000       0.0    0.000000     0.0    0.0   \n",
              "3            0.0      0.0  0.000000       0.0    0.169885     0.0    0.0   \n",
              "4            0.0      0.0  0.141663       0.0    0.000000     0.0    0.0   \n",
              "...          ...      ...       ...       ...         ...     ...    ...   \n",
              "49997        0.0      0.0  0.110783       0.0    0.000000     0.0    0.0   \n",
              "49998        0.0      0.0  0.000000       0.0    0.000000     0.0    0.0   \n",
              "49999        0.0      0.0  0.000000       0.0    0.000000     0.0    0.0   \n",
              "50000        0.0      0.0  0.000000       0.0    0.000000     0.0    0.0   \n",
              "50001        0.0      0.0  0.000000       0.0    0.000000     0.0    0.0   \n",
              "\n",
              "       academic  academy  accent  ...  youth  youtube  yrs  yuck  zen  zero  \\\n",
              "0           0.0      0.0     0.0  ...    0.0      0.0  0.0   0.0  0.0   0.0   \n",
              "1           0.0      0.0     0.0  ...    0.0      0.0  0.0   0.0  0.0   0.0   \n",
              "2           0.0      0.0     0.0  ...    0.0      0.0  0.0   0.0  0.0   0.0   \n",
              "3           0.0      0.0     0.0  ...    0.0      0.0  0.0   0.0  0.0   0.0   \n",
              "4           0.0      0.0     0.0  ...    0.0      0.0  0.0   0.0  0.0   0.0   \n",
              "...         ...      ...     ...  ...    ...      ...  ...   ...  ...   ...   \n",
              "49997       0.0      0.0     0.0  ...    0.0      0.0  0.0   0.0  0.0   0.0   \n",
              "49998       0.0      0.0     0.0  ...    0.0      0.0  0.0   0.0  0.0   0.0   \n",
              "49999       0.0      0.0     0.0  ...    0.0      0.0  0.0   0.0  0.0   0.0   \n",
              "50000       0.0      0.0     0.0  ...    0.0      0.0  0.0   0.0  0.0   0.0   \n",
              "50001       0.0      0.0     0.0  ...    0.0      0.0  0.0   0.0  0.0   0.0   \n",
              "\n",
              "       zipper  zombie  zone  zoom  \n",
              "0         0.0     0.0   0.0   0.0  \n",
              "1         0.0     0.0   0.0   0.0  \n",
              "2         0.0     0.0   0.0   0.0  \n",
              "3         0.0     0.0   0.0   0.0  \n",
              "4         0.0     0.0   0.0   0.0  \n",
              "...       ...     ...   ...   ...  \n",
              "49997     0.0     0.0   0.0   0.0  \n",
              "49998     0.0     0.0   0.0   0.0  \n",
              "49999     0.0     0.0   0.0   0.0  \n",
              "50000     0.0     0.0   0.0   0.0  \n",
              "50001     0.0     0.0   0.0   0.0  \n",
              "\n",
              "[50002 rows x 5000 columns]"
            ],
            "text/html": [
              "\n",
              "  <div id=\"df-aa3df52f-ab67-4f8a-915c-4adb12a6caf1\">\n",
              "    <div class=\"colab-df-container\">\n",
              "      <div>\n",
              "<style scoped>\n",
              "    .dataframe tbody tr th:only-of-type {\n",
              "        vertical-align: middle;\n",
              "    }\n",
              "\n",
              "    .dataframe tbody tr th {\n",
              "        vertical-align: top;\n",
              "    }\n",
              "\n",
              "    .dataframe thead th {\n",
              "        text-align: right;\n",
              "    }\n",
              "</style>\n",
              "<table border=\"1\" class=\"dataframe\">\n",
              "  <thead>\n",
              "    <tr style=\"text-align: right;\">\n",
              "      <th></th>\n",
              "      <th>abilities</th>\n",
              "      <th>ability</th>\n",
              "      <th>able</th>\n",
              "      <th>absolute</th>\n",
              "      <th>absolutely</th>\n",
              "      <th>absurd</th>\n",
              "      <th>abuse</th>\n",
              "      <th>academic</th>\n",
              "      <th>academy</th>\n",
              "      <th>accent</th>\n",
              "      <th>...</th>\n",
              "      <th>youth</th>\n",
              "      <th>youtube</th>\n",
              "      <th>yrs</th>\n",
              "      <th>yuck</th>\n",
              "      <th>zen</th>\n",
              "      <th>zero</th>\n",
              "      <th>zipper</th>\n",
              "      <th>zombie</th>\n",
              "      <th>zone</th>\n",
              "      <th>zoom</th>\n",
              "    </tr>\n",
              "  </thead>\n",
              "  <tbody>\n",
              "    <tr>\n",
              "      <th>0</th>\n",
              "      <td>0.0</td>\n",
              "      <td>0.0</td>\n",
              "      <td>0.000000</td>\n",
              "      <td>0.0</td>\n",
              "      <td>0.000000</td>\n",
              "      <td>0.0</td>\n",
              "      <td>0.0</td>\n",
              "      <td>0.0</td>\n",
              "      <td>0.0</td>\n",
              "      <td>0.0</td>\n",
              "      <td>...</td>\n",
              "      <td>0.0</td>\n",
              "      <td>0.0</td>\n",
              "      <td>0.0</td>\n",
              "      <td>0.0</td>\n",
              "      <td>0.0</td>\n",
              "      <td>0.0</td>\n",
              "      <td>0.0</td>\n",
              "      <td>0.0</td>\n",
              "      <td>0.0</td>\n",
              "      <td>0.0</td>\n",
              "    </tr>\n",
              "    <tr>\n",
              "      <th>1</th>\n",
              "      <td>0.0</td>\n",
              "      <td>0.0</td>\n",
              "      <td>0.000000</td>\n",
              "      <td>0.0</td>\n",
              "      <td>0.000000</td>\n",
              "      <td>0.0</td>\n",
              "      <td>0.0</td>\n",
              "      <td>0.0</td>\n",
              "      <td>0.0</td>\n",
              "      <td>0.0</td>\n",
              "      <td>...</td>\n",
              "      <td>0.0</td>\n",
              "      <td>0.0</td>\n",
              "      <td>0.0</td>\n",
              "      <td>0.0</td>\n",
              "      <td>0.0</td>\n",
              "      <td>0.0</td>\n",
              "      <td>0.0</td>\n",
              "      <td>0.0</td>\n",
              "      <td>0.0</td>\n",
              "      <td>0.0</td>\n",
              "    </tr>\n",
              "    <tr>\n",
              "      <th>2</th>\n",
              "      <td>0.0</td>\n",
              "      <td>0.0</td>\n",
              "      <td>0.000000</td>\n",
              "      <td>0.0</td>\n",
              "      <td>0.000000</td>\n",
              "      <td>0.0</td>\n",
              "      <td>0.0</td>\n",
              "      <td>0.0</td>\n",
              "      <td>0.0</td>\n",
              "      <td>0.0</td>\n",
              "      <td>...</td>\n",
              "      <td>0.0</td>\n",
              "      <td>0.0</td>\n",
              "      <td>0.0</td>\n",
              "      <td>0.0</td>\n",
              "      <td>0.0</td>\n",
              "      <td>0.0</td>\n",
              "      <td>0.0</td>\n",
              "      <td>0.0</td>\n",
              "      <td>0.0</td>\n",
              "      <td>0.0</td>\n",
              "    </tr>\n",
              "    <tr>\n",
              "      <th>3</th>\n",
              "      <td>0.0</td>\n",
              "      <td>0.0</td>\n",
              "      <td>0.000000</td>\n",
              "      <td>0.0</td>\n",
              "      <td>0.169885</td>\n",
              "      <td>0.0</td>\n",
              "      <td>0.0</td>\n",
              "      <td>0.0</td>\n",
              "      <td>0.0</td>\n",
              "      <td>0.0</td>\n",
              "      <td>...</td>\n",
              "      <td>0.0</td>\n",
              "      <td>0.0</td>\n",
              "      <td>0.0</td>\n",
              "      <td>0.0</td>\n",
              "      <td>0.0</td>\n",
              "      <td>0.0</td>\n",
              "      <td>0.0</td>\n",
              "      <td>0.0</td>\n",
              "      <td>0.0</td>\n",
              "      <td>0.0</td>\n",
              "    </tr>\n",
              "    <tr>\n",
              "      <th>4</th>\n",
              "      <td>0.0</td>\n",
              "      <td>0.0</td>\n",
              "      <td>0.141663</td>\n",
              "      <td>0.0</td>\n",
              "      <td>0.000000</td>\n",
              "      <td>0.0</td>\n",
              "      <td>0.0</td>\n",
              "      <td>0.0</td>\n",
              "      <td>0.0</td>\n",
              "      <td>0.0</td>\n",
              "      <td>...</td>\n",
              "      <td>0.0</td>\n",
              "      <td>0.0</td>\n",
              "      <td>0.0</td>\n",
              "      <td>0.0</td>\n",
              "      <td>0.0</td>\n",
              "      <td>0.0</td>\n",
              "      <td>0.0</td>\n",
              "      <td>0.0</td>\n",
              "      <td>0.0</td>\n",
              "      <td>0.0</td>\n",
              "    </tr>\n",
              "    <tr>\n",
              "      <th>...</th>\n",
              "      <td>...</td>\n",
              "      <td>...</td>\n",
              "      <td>...</td>\n",
              "      <td>...</td>\n",
              "      <td>...</td>\n",
              "      <td>...</td>\n",
              "      <td>...</td>\n",
              "      <td>...</td>\n",
              "      <td>...</td>\n",
              "      <td>...</td>\n",
              "      <td>...</td>\n",
              "      <td>...</td>\n",
              "      <td>...</td>\n",
              "      <td>...</td>\n",
              "      <td>...</td>\n",
              "      <td>...</td>\n",
              "      <td>...</td>\n",
              "      <td>...</td>\n",
              "      <td>...</td>\n",
              "      <td>...</td>\n",
              "      <td>...</td>\n",
              "    </tr>\n",
              "    <tr>\n",
              "      <th>49997</th>\n",
              "      <td>0.0</td>\n",
              "      <td>0.0</td>\n",
              "      <td>0.110783</td>\n",
              "      <td>0.0</td>\n",
              "      <td>0.000000</td>\n",
              "      <td>0.0</td>\n",
              "      <td>0.0</td>\n",
              "      <td>0.0</td>\n",
              "      <td>0.0</td>\n",
              "      <td>0.0</td>\n",
              "      <td>...</td>\n",
              "      <td>0.0</td>\n",
              "      <td>0.0</td>\n",
              "      <td>0.0</td>\n",
              "      <td>0.0</td>\n",
              "      <td>0.0</td>\n",
              "      <td>0.0</td>\n",
              "      <td>0.0</td>\n",
              "      <td>0.0</td>\n",
              "      <td>0.0</td>\n",
              "      <td>0.0</td>\n",
              "    </tr>\n",
              "    <tr>\n",
              "      <th>49998</th>\n",
              "      <td>0.0</td>\n",
              "      <td>0.0</td>\n",
              "      <td>0.000000</td>\n",
              "      <td>0.0</td>\n",
              "      <td>0.000000</td>\n",
              "      <td>0.0</td>\n",
              "      <td>0.0</td>\n",
              "      <td>0.0</td>\n",
              "      <td>0.0</td>\n",
              "      <td>0.0</td>\n",
              "      <td>...</td>\n",
              "      <td>0.0</td>\n",
              "      <td>0.0</td>\n",
              "      <td>0.0</td>\n",
              "      <td>0.0</td>\n",
              "      <td>0.0</td>\n",
              "      <td>0.0</td>\n",
              "      <td>0.0</td>\n",
              "      <td>0.0</td>\n",
              "      <td>0.0</td>\n",
              "      <td>0.0</td>\n",
              "    </tr>\n",
              "    <tr>\n",
              "      <th>49999</th>\n",
              "      <td>0.0</td>\n",
              "      <td>0.0</td>\n",
              "      <td>0.000000</td>\n",
              "      <td>0.0</td>\n",
              "      <td>0.000000</td>\n",
              "      <td>0.0</td>\n",
              "      <td>0.0</td>\n",
              "      <td>0.0</td>\n",
              "      <td>0.0</td>\n",
              "      <td>0.0</td>\n",
              "      <td>...</td>\n",
              "      <td>0.0</td>\n",
              "      <td>0.0</td>\n",
              "      <td>0.0</td>\n",
              "      <td>0.0</td>\n",
              "      <td>0.0</td>\n",
              "      <td>0.0</td>\n",
              "      <td>0.0</td>\n",
              "      <td>0.0</td>\n",
              "      <td>0.0</td>\n",
              "      <td>0.0</td>\n",
              "    </tr>\n",
              "    <tr>\n",
              "      <th>50000</th>\n",
              "      <td>0.0</td>\n",
              "      <td>0.0</td>\n",
              "      <td>0.000000</td>\n",
              "      <td>0.0</td>\n",
              "      <td>0.000000</td>\n",
              "      <td>0.0</td>\n",
              "      <td>0.0</td>\n",
              "      <td>0.0</td>\n",
              "      <td>0.0</td>\n",
              "      <td>0.0</td>\n",
              "      <td>...</td>\n",
              "      <td>0.0</td>\n",
              "      <td>0.0</td>\n",
              "      <td>0.0</td>\n",
              "      <td>0.0</td>\n",
              "      <td>0.0</td>\n",
              "      <td>0.0</td>\n",
              "      <td>0.0</td>\n",
              "      <td>0.0</td>\n",
              "      <td>0.0</td>\n",
              "      <td>0.0</td>\n",
              "    </tr>\n",
              "    <tr>\n",
              "      <th>50001</th>\n",
              "      <td>0.0</td>\n",
              "      <td>0.0</td>\n",
              "      <td>0.000000</td>\n",
              "      <td>0.0</td>\n",
              "      <td>0.000000</td>\n",
              "      <td>0.0</td>\n",
              "      <td>0.0</td>\n",
              "      <td>0.0</td>\n",
              "      <td>0.0</td>\n",
              "      <td>0.0</td>\n",
              "      <td>...</td>\n",
              "      <td>0.0</td>\n",
              "      <td>0.0</td>\n",
              "      <td>0.0</td>\n",
              "      <td>0.0</td>\n",
              "      <td>0.0</td>\n",
              "      <td>0.0</td>\n",
              "      <td>0.0</td>\n",
              "      <td>0.0</td>\n",
              "      <td>0.0</td>\n",
              "      <td>0.0</td>\n",
              "    </tr>\n",
              "  </tbody>\n",
              "</table>\n",
              "<p>50002 rows × 5000 columns</p>\n",
              "</div>\n",
              "      <button class=\"colab-df-convert\" onclick=\"convertToInteractive('df-aa3df52f-ab67-4f8a-915c-4adb12a6caf1')\"\n",
              "              title=\"Convert this dataframe to an interactive table.\"\n",
              "              style=\"display:none;\">\n",
              "        \n",
              "  <svg xmlns=\"http://www.w3.org/2000/svg\" height=\"24px\"viewBox=\"0 0 24 24\"\n",
              "       width=\"24px\">\n",
              "    <path d=\"M0 0h24v24H0V0z\" fill=\"none\"/>\n",
              "    <path d=\"M18.56 5.44l.94 2.06.94-2.06 2.06-.94-2.06-.94-.94-2.06-.94 2.06-2.06.94zm-11 1L8.5 8.5l.94-2.06 2.06-.94-2.06-.94L8.5 2.5l-.94 2.06-2.06.94zm10 10l.94 2.06.94-2.06 2.06-.94-2.06-.94-.94-2.06-.94 2.06-2.06.94z\"/><path d=\"M17.41 7.96l-1.37-1.37c-.4-.4-.92-.59-1.43-.59-.52 0-1.04.2-1.43.59L10.3 9.45l-7.72 7.72c-.78.78-.78 2.05 0 2.83L4 21.41c.39.39.9.59 1.41.59.51 0 1.02-.2 1.41-.59l7.78-7.78 2.81-2.81c.8-.78.8-2.07 0-2.86zM5.41 20L4 18.59l7.72-7.72 1.47 1.35L5.41 20z\"/>\n",
              "  </svg>\n",
              "      </button>\n",
              "      \n",
              "  <style>\n",
              "    .colab-df-container {\n",
              "      display:flex;\n",
              "      flex-wrap:wrap;\n",
              "      gap: 12px;\n",
              "    }\n",
              "\n",
              "    .colab-df-convert {\n",
              "      background-color: #E8F0FE;\n",
              "      border: none;\n",
              "      border-radius: 50%;\n",
              "      cursor: pointer;\n",
              "      display: none;\n",
              "      fill: #1967D2;\n",
              "      height: 32px;\n",
              "      padding: 0 0 0 0;\n",
              "      width: 32px;\n",
              "    }\n",
              "\n",
              "    .colab-df-convert:hover {\n",
              "      background-color: #E2EBFA;\n",
              "      box-shadow: 0px 1px 2px rgba(60, 64, 67, 0.3), 0px 1px 3px 1px rgba(60, 64, 67, 0.15);\n",
              "      fill: #174EA6;\n",
              "    }\n",
              "\n",
              "    [theme=dark] .colab-df-convert {\n",
              "      background-color: #3B4455;\n",
              "      fill: #D2E3FC;\n",
              "    }\n",
              "\n",
              "    [theme=dark] .colab-df-convert:hover {\n",
              "      background-color: #434B5C;\n",
              "      box-shadow: 0px 1px 3px 1px rgba(0, 0, 0, 0.15);\n",
              "      filter: drop-shadow(0px 1px 2px rgba(0, 0, 0, 0.3));\n",
              "      fill: #FFFFFF;\n",
              "    }\n",
              "  </style>\n",
              "\n",
              "      <script>\n",
              "        const buttonEl =\n",
              "          document.querySelector('#df-aa3df52f-ab67-4f8a-915c-4adb12a6caf1 button.colab-df-convert');\n",
              "        buttonEl.style.display =\n",
              "          google.colab.kernel.accessAllowed ? 'block' : 'none';\n",
              "\n",
              "        async function convertToInteractive(key) {\n",
              "          const element = document.querySelector('#df-aa3df52f-ab67-4f8a-915c-4adb12a6caf1');\n",
              "          const dataTable =\n",
              "            await google.colab.kernel.invokeFunction('convertToInteractive',\n",
              "                                                     [key], {});\n",
              "          if (!dataTable) return;\n",
              "\n",
              "          const docLinkHtml = 'Like what you see? Visit the ' +\n",
              "            '<a target=\"_blank\" href=https://colab.research.google.com/notebooks/data_table.ipynb>data table notebook</a>'\n",
              "            + ' to learn more about interactive tables.';\n",
              "          element.innerHTML = '';\n",
              "          dataTable['output_type'] = 'display_data';\n",
              "          await google.colab.output.renderOutput(dataTable, element);\n",
              "          const docLink = document.createElement('div');\n",
              "          docLink.innerHTML = docLinkHtml;\n",
              "          element.appendChild(docLink);\n",
              "        }\n",
              "      </script>\n",
              "    </div>\n",
              "  </div>\n",
              "  "
            ]
          },
          "metadata": {},
          "execution_count": 38
        }
      ]
    },
    {
      "cell_type": "code",
      "source": [
        "# Fit the NMF model and generate top 5 topics\n",
        "num_top_words = 10\n",
        "num_topics = 5\n",
        "nmf = NMF(n_components=num_topics, random_state=0, alpha=.1, init='nndsvd').fit(tfidf)\n",
        "display_topics(nmf, tfidf_words, num_top_words)"
      ],
      "metadata": {
        "colab": {
          "base_uri": "https://localhost:8080/"
        },
        "id": "xINn5kDWsTcr",
        "outputId": "bf9f076d-094b-4d0a-8d80-33f88249ddc1"
      },
      "execution_count": null,
      "outputs": [
        {
          "output_type": "stream",
          "name": "stderr",
          "text": [
            "/usr/local/lib/python3.8/dist-packages/sklearn/decomposition/_nmf.py:1422: FutureWarning: `alpha` was deprecated in version 1.0 and will be removed in 1.2. Use `alpha_W` and `alpha_H` instead\n",
            "  warnings.warn(\n"
          ]
        },
        {
          "output_type": "stream",
          "name": "stdout",
          "text": [
            "Topic 0:\n",
            "product great good use work price bought quality time works\n",
            "Topic 1:\n",
            "book read books reading story author good characters written interesting\n",
            "Topic 2:\n",
            "movie film watch movies story good dvd bad acting like\n",
            "Topic 3:\n",
            "album songs music like song good best love sound band\n",
            "Topic 4:\n",
            "game fun play games graphics played playing like good buy\n"
          ]
        },
        {
          "output_type": "stream",
          "name": "stderr",
          "text": [
            "/usr/local/lib/python3.8/dist-packages/sklearn/decomposition/_nmf.py:1637: ConvergenceWarning: Maximum number of iterations 200 reached. Increase it to improve convergence.\n",
            "  warnings.warn(\n"
          ]
        }
      ]
    },
    {
      "cell_type": "code",
      "source": [
        "num_top_words = 10\n",
        "num_topics = 10\n",
        "nmf = NMF(n_components=num_topics, random_state=0, alpha=.1, init='nndsvd').fit(tfidf)\n",
        "display_topics(nmf, tfidf_words, num_top_words)"
      ],
      "metadata": {
        "colab": {
          "base_uri": "https://localhost:8080/"
        },
        "id": "bfcyBXiisX4f",
        "outputId": "0bced78d-e51b-4080-8905-2acde8534c52"
      },
      "execution_count": null,
      "outputs": [
        {
          "output_type": "stream",
          "name": "stderr",
          "text": [
            "/usr/local/lib/python3.8/dist-packages/sklearn/decomposition/_nmf.py:1422: FutureWarning: `alpha` was deprecated in version 1.0 and will be removed in 1.2. Use `alpha_W` and `alpha_H` instead\n",
            "  warnings.warn(\n"
          ]
        },
        {
          "output_type": "stream",
          "name": "stdout",
          "text": [
            "Topic 0:\n",
            "use work like time bought money buy got little old\n",
            "Topic 1:\n",
            "book reading information author written pages recommend interesting people like\n",
            "Topic 2:\n",
            "movie film movies watch acting bad seen like story watching\n",
            "Topic 3:\n",
            "album songs music song like best listen band love sound\n",
            "Topic 4:\n",
            "game fun play games graphics played playing like buy best\n",
            "Topic 5:\n",
            "great love price works easy fun recommend wonderful perfect awesome\n",
            "Topic 6:\n",
            "good pretty price quality overall better little bad nice lot\n",
            "Topic 7:\n",
            "read story books characters series reading novel love interesting plot\n",
            "Topic 8:\n",
            "dvd quality video player film season version play dvds episodes\n",
            "Topic 9:\n",
            "product amazon received price recommend item works order products ordered\n"
          ]
        }
      ]
    },
    {
      "cell_type": "code",
      "source": [
        "import tensorflow_text"
      ],
      "metadata": {
        "id": "RX5BP6gKvFAf"
      },
      "execution_count": null,
      "outputs": []
    },
    {
      "cell_type": "code",
      "source": [
        "pip install tensorflow_text\n"
      ],
      "metadata": {
        "colab": {
          "base_uri": "https://localhost:8080/"
        },
        "id": "AKly78OrtkY9",
        "outputId": "c31eeda7-d7c4-4cdf-c92b-0bf2f1c2282f"
      },
      "execution_count": null,
      "outputs": [
        {
          "output_type": "stream",
          "name": "stdout",
          "text": [
            "Looking in indexes: https://pypi.org/simple, https://us-python.pkg.dev/colab-wheels/public/simple/\n",
            "Collecting tensorflow_text\n",
            "  Downloading tensorflow_text-2.11.0-cp38-cp38-manylinux_2_17_x86_64.manylinux2014_x86_64.whl (5.8 MB)\n",
            "\u001b[2K     \u001b[90m━━━━━━━━━━━━━━━━━━━━━━━━━━━━━━━━━━━━━━━━\u001b[0m \u001b[32m5.8/5.8 MB\u001b[0m \u001b[31m62.1 MB/s\u001b[0m eta \u001b[36m0:00:00\u001b[0m\n",
            "\u001b[?25hCollecting tensorflow<2.12,>=2.11.0\n",
            "  Downloading tensorflow-2.11.0-cp38-cp38-manylinux_2_17_x86_64.manylinux2014_x86_64.whl (588.3 MB)\n",
            "\u001b[2K     \u001b[90m━━━━━━━━━━━━━━━━━━━━━━━━━━━━━━━━━━━━━━━\u001b[0m \u001b[32m588.3/588.3 MB\u001b[0m \u001b[31m2.8 MB/s\u001b[0m eta \u001b[36m0:00:00\u001b[0m\n",
            "\u001b[?25hRequirement already satisfied: tensorflow-hub>=0.8.0 in /usr/local/lib/python3.8/dist-packages (from tensorflow_text) (0.12.0)\n",
            "Requirement already satisfied: typing-extensions>=3.6.6 in /usr/local/lib/python3.8/dist-packages (from tensorflow<2.12,>=2.11.0->tensorflow_text) (4.4.0)\n",
            "Requirement already satisfied: termcolor>=1.1.0 in /usr/local/lib/python3.8/dist-packages (from tensorflow<2.12,>=2.11.0->tensorflow_text) (2.2.0)\n",
            "Requirement already satisfied: tensorflow-io-gcs-filesystem>=0.23.1 in /usr/local/lib/python3.8/dist-packages (from tensorflow<2.12,>=2.11.0->tensorflow_text) (0.29.0)\n",
            "Requirement already satisfied: opt-einsum>=2.3.2 in /usr/local/lib/python3.8/dist-packages (from tensorflow<2.12,>=2.11.0->tensorflow_text) (3.3.0)\n",
            "Requirement already satisfied: protobuf<3.20,>=3.9.2 in /usr/local/lib/python3.8/dist-packages (from tensorflow<2.12,>=2.11.0->tensorflow_text) (3.19.6)\n",
            "Collecting tensorboard<2.12,>=2.11\n",
            "  Downloading tensorboard-2.11.2-py3-none-any.whl (6.0 MB)\n",
            "\u001b[2K     \u001b[90m━━━━━━━━━━━━━━━━━━━━━━━━━━━━━━━━━━━━━━━━\u001b[0m \u001b[32m6.0/6.0 MB\u001b[0m \u001b[31m100.5 MB/s\u001b[0m eta \u001b[36m0:00:00\u001b[0m\n",
            "\u001b[?25hRequirement already satisfied: grpcio<2.0,>=1.24.3 in /usr/local/lib/python3.8/dist-packages (from tensorflow<2.12,>=2.11.0->tensorflow_text) (1.51.1)\n",
            "Requirement already satisfied: h5py>=2.9.0 in /usr/local/lib/python3.8/dist-packages (from tensorflow<2.12,>=2.11.0->tensorflow_text) (3.1.0)\n",
            "Requirement already satisfied: google-pasta>=0.1.1 in /usr/local/lib/python3.8/dist-packages (from tensorflow<2.12,>=2.11.0->tensorflow_text) (0.2.0)\n",
            "Requirement already satisfied: astunparse>=1.6.0 in /usr/local/lib/python3.8/dist-packages (from tensorflow<2.12,>=2.11.0->tensorflow_text) (1.6.3)\n",
            "Requirement already satisfied: absl-py>=1.0.0 in /usr/local/lib/python3.8/dist-packages (from tensorflow<2.12,>=2.11.0->tensorflow_text) (1.3.0)\n",
            "Requirement already satisfied: gast<=0.4.0,>=0.2.1 in /usr/local/lib/python3.8/dist-packages (from tensorflow<2.12,>=2.11.0->tensorflow_text) (0.4.0)\n",
            "Collecting keras<2.12,>=2.11.0\n",
            "  Downloading keras-2.11.0-py2.py3-none-any.whl (1.7 MB)\n",
            "\u001b[2K     \u001b[90m━━━━━━━━━━━━━━━━━━━━━━━━━━━━━━━━━━━━━━━━\u001b[0m \u001b[32m1.7/1.7 MB\u001b[0m \u001b[31m87.0 MB/s\u001b[0m eta \u001b[36m0:00:00\u001b[0m\n",
            "\u001b[?25hRequirement already satisfied: setuptools in /usr/local/lib/python3.8/dist-packages (from tensorflow<2.12,>=2.11.0->tensorflow_text) (57.4.0)\n",
            "Requirement already satisfied: packaging in /usr/local/lib/python3.8/dist-packages (from tensorflow<2.12,>=2.11.0->tensorflow_text) (21.3)\n",
            "Requirement already satisfied: six>=1.12.0 in /usr/local/lib/python3.8/dist-packages (from tensorflow<2.12,>=2.11.0->tensorflow_text) (1.15.0)\n",
            "Collecting tensorflow-estimator<2.12,>=2.11.0\n",
            "  Downloading tensorflow_estimator-2.11.0-py2.py3-none-any.whl (439 kB)\n",
            "\u001b[2K     \u001b[90m━━━━━━━━━━━━━━━━━━━━━━━━━━━━━━━━━━━━━━\u001b[0m \u001b[32m439.2/439.2 KB\u001b[0m \u001b[31m39.8 MB/s\u001b[0m eta \u001b[36m0:00:00\u001b[0m\n",
            "\u001b[?25hRequirement already satisfied: libclang>=13.0.0 in /usr/local/lib/python3.8/dist-packages (from tensorflow<2.12,>=2.11.0->tensorflow_text) (15.0.6.1)\n",
            "Requirement already satisfied: numpy>=1.20 in /usr/local/lib/python3.8/dist-packages (from tensorflow<2.12,>=2.11.0->tensorflow_text) (1.21.6)\n",
            "Collecting flatbuffers>=2.0\n",
            "  Downloading flatbuffers-23.1.21-py2.py3-none-any.whl (26 kB)\n",
            "Requirement already satisfied: wrapt>=1.11.0 in /usr/local/lib/python3.8/dist-packages (from tensorflow<2.12,>=2.11.0->tensorflow_text) (1.14.1)\n",
            "Requirement already satisfied: wheel<1.0,>=0.23.0 in /usr/local/lib/python3.8/dist-packages (from astunparse>=1.6.0->tensorflow<2.12,>=2.11.0->tensorflow_text) (0.38.4)\n",
            "Requirement already satisfied: markdown>=2.6.8 in /usr/local/lib/python3.8/dist-packages (from tensorboard<2.12,>=2.11->tensorflow<2.12,>=2.11.0->tensorflow_text) (3.4.1)\n",
            "Requirement already satisfied: google-auth<3,>=1.6.3 in /usr/local/lib/python3.8/dist-packages (from tensorboard<2.12,>=2.11->tensorflow<2.12,>=2.11.0->tensorflow_text) (2.16.0)\n",
            "Requirement already satisfied: requests<3,>=2.21.0 in /usr/local/lib/python3.8/dist-packages (from tensorboard<2.12,>=2.11->tensorflow<2.12,>=2.11.0->tensorflow_text) (2.25.1)\n",
            "Requirement already satisfied: tensorboard-data-server<0.7.0,>=0.6.0 in /usr/local/lib/python3.8/dist-packages (from tensorboard<2.12,>=2.11->tensorflow<2.12,>=2.11.0->tensorflow_text) (0.6.1)\n",
            "Requirement already satisfied: google-auth-oauthlib<0.5,>=0.4.1 in /usr/local/lib/python3.8/dist-packages (from tensorboard<2.12,>=2.11->tensorflow<2.12,>=2.11.0->tensorflow_text) (0.4.6)\n",
            "Requirement already satisfied: tensorboard-plugin-wit>=1.6.0 in /usr/local/lib/python3.8/dist-packages (from tensorboard<2.12,>=2.11->tensorflow<2.12,>=2.11.0->tensorflow_text) (1.8.1)\n",
            "Requirement already satisfied: werkzeug>=1.0.1 in /usr/local/lib/python3.8/dist-packages (from tensorboard<2.12,>=2.11->tensorflow<2.12,>=2.11.0->tensorflow_text) (1.0.1)\n",
            "Requirement already satisfied: pyparsing!=3.0.5,>=2.0.2 in /usr/local/lib/python3.8/dist-packages (from packaging->tensorflow<2.12,>=2.11.0->tensorflow_text) (3.0.9)\n",
            "Requirement already satisfied: rsa<5,>=3.1.4 in /usr/local/lib/python3.8/dist-packages (from google-auth<3,>=1.6.3->tensorboard<2.12,>=2.11->tensorflow<2.12,>=2.11.0->tensorflow_text) (4.9)\n",
            "Requirement already satisfied: pyasn1-modules>=0.2.1 in /usr/local/lib/python3.8/dist-packages (from google-auth<3,>=1.6.3->tensorboard<2.12,>=2.11->tensorflow<2.12,>=2.11.0->tensorflow_text) (0.2.8)\n",
            "Requirement already satisfied: cachetools<6.0,>=2.0.0 in /usr/local/lib/python3.8/dist-packages (from google-auth<3,>=1.6.3->tensorboard<2.12,>=2.11->tensorflow<2.12,>=2.11.0->tensorflow_text) (5.2.1)\n",
            "Requirement already satisfied: requests-oauthlib>=0.7.0 in /usr/local/lib/python3.8/dist-packages (from google-auth-oauthlib<0.5,>=0.4.1->tensorboard<2.12,>=2.11->tensorflow<2.12,>=2.11.0->tensorflow_text) (1.3.1)\n",
            "Requirement already satisfied: importlib-metadata>=4.4 in /usr/local/lib/python3.8/dist-packages (from markdown>=2.6.8->tensorboard<2.12,>=2.11->tensorflow<2.12,>=2.11.0->tensorflow_text) (6.0.0)\n",
            "Requirement already satisfied: certifi>=2017.4.17 in /usr/local/lib/python3.8/dist-packages (from requests<3,>=2.21.0->tensorboard<2.12,>=2.11->tensorflow<2.12,>=2.11.0->tensorflow_text) (2022.12.7)\n",
            "Requirement already satisfied: chardet<5,>=3.0.2 in /usr/local/lib/python3.8/dist-packages (from requests<3,>=2.21.0->tensorboard<2.12,>=2.11->tensorflow<2.12,>=2.11.0->tensorflow_text) (4.0.0)\n",
            "Requirement already satisfied: idna<3,>=2.5 in /usr/local/lib/python3.8/dist-packages (from requests<3,>=2.21.0->tensorboard<2.12,>=2.11->tensorflow<2.12,>=2.11.0->tensorflow_text) (2.10)\n",
            "Requirement already satisfied: urllib3<1.27,>=1.21.1 in /usr/local/lib/python3.8/dist-packages (from requests<3,>=2.21.0->tensorboard<2.12,>=2.11->tensorflow<2.12,>=2.11.0->tensorflow_text) (1.24.3)\n",
            "Requirement already satisfied: zipp>=0.5 in /usr/local/lib/python3.8/dist-packages (from importlib-metadata>=4.4->markdown>=2.6.8->tensorboard<2.12,>=2.11->tensorflow<2.12,>=2.11.0->tensorflow_text) (3.11.0)\n",
            "Requirement already satisfied: pyasn1<0.5.0,>=0.4.6 in /usr/local/lib/python3.8/dist-packages (from pyasn1-modules>=0.2.1->google-auth<3,>=1.6.3->tensorboard<2.12,>=2.11->tensorflow<2.12,>=2.11.0->tensorflow_text) (0.4.8)\n",
            "Requirement already satisfied: oauthlib>=3.0.0 in /usr/local/lib/python3.8/dist-packages (from requests-oauthlib>=0.7.0->google-auth-oauthlib<0.5,>=0.4.1->tensorboard<2.12,>=2.11->tensorflow<2.12,>=2.11.0->tensorflow_text) (3.2.2)\n",
            "Installing collected packages: flatbuffers, tensorflow-estimator, keras, tensorboard, tensorflow, tensorflow_text\n",
            "  Attempting uninstall: flatbuffers\n",
            "    Found existing installation: flatbuffers 1.12\n",
            "    Uninstalling flatbuffers-1.12:\n",
            "      Successfully uninstalled flatbuffers-1.12\n",
            "  Attempting uninstall: tensorflow-estimator\n",
            "    Found existing installation: tensorflow-estimator 2.9.0\n",
            "    Uninstalling tensorflow-estimator-2.9.0:\n",
            "      Successfully uninstalled tensorflow-estimator-2.9.0\n",
            "  Attempting uninstall: keras\n",
            "    Found existing installation: keras 2.9.0\n",
            "    Uninstalling keras-2.9.0:\n",
            "      Successfully uninstalled keras-2.9.0\n",
            "  Attempting uninstall: tensorboard\n",
            "    Found existing installation: tensorboard 2.9.1\n",
            "    Uninstalling tensorboard-2.9.1:\n",
            "      Successfully uninstalled tensorboard-2.9.1\n",
            "  Attempting uninstall: tensorflow\n",
            "    Found existing installation: tensorflow 2.9.2\n",
            "    Uninstalling tensorflow-2.9.2:\n",
            "      Successfully uninstalled tensorflow-2.9.2\n",
            "Successfully installed flatbuffers-23.1.21 keras-2.11.0 tensorboard-2.11.2 tensorflow-2.11.0 tensorflow-estimator-2.11.0 tensorflow_text-2.11.0\n"
          ]
        }
      ]
    },
    {
      "cell_type": "code",
      "source": [
        "# General Imports\n",
        "import pandas as pd \n",
        "from sklearn.model_selection import train_test_split\n",
        "from sklearn.utils import shuffle\n",
        "from os.path import join\n",
        "from tqdm import tqdm\n",
        "\n",
        "# BERT Specific Imports\n",
        "import tensorflow as tf\n",
        "import tensorflow_hub as hub \n",
        "import tensorflow_text as text "
      ],
      "metadata": {
        "id": "DOQLLd-fsogG"
      },
      "execution_count": null,
      "outputs": []
    },
    {
      "cell_type": "code",
      "source": [
        "# Preprocessing layer to generate the tokenized sentences and input mask\n",
        "bert_preprocess = hub.KerasLayer('https://tfhub.dev/tensorflow/bert_en_uncased_preprocess/3')\n",
        "# Encoder layer which generates word-level and setence-level 768-dimensional text embeddings \n",
        "bert = hub.KerasLayer('https://tfhub.dev/google/experts/bert/wiki_books/sst2/2')"
      ],
      "metadata": {
        "colab": {
          "base_uri": "https://localhost:8080/"
        },
        "id": "XNdTxVPrBJ26",
        "outputId": "9e3d0273-381f-4155-a171-8dd0e1719050"
      },
      "execution_count": null,
      "outputs": [
        {
          "output_type": "stream",
          "name": "stderr",
          "text": [
            "WARNING:tensorflow:Please fix your imports. Module tensorflow.python.training.tracking.data_structures has been moved to tensorflow.python.trackable.data_structures. The old module will be deleted in version 2.11.\n"
          ]
        }
      ]
    },
    {
      "cell_type": "code",
      "source": [
        "# Load the downsampled data\n",
        "data_dir = \"data\"\n",
        "data = pd.read_csv(join(data_dir, \"/content/drive/MyDrive/New folder (3)/test.csv\"), names=['Rating', 'Title', 'Review'])\n",
        "data = data.iloc[1:, :].reset_index(drop=True)\n",
        "data[\"Rating\"] = data[\"Rating\"].apply(int) \n",
        "data "
      ],
      "metadata": {
        "colab": {
          "base_uri": "https://localhost:8080/",
          "height": 423
        },
        "id": "cMUWbMn52JH_",
        "outputId": "619555e8-603f-4355-f478-2b9d6f75522f"
      },
      "execution_count": null,
      "outputs": [
        {
          "output_type": "execute_result",
          "data": {
            "text/plain": [
              "        Rating                                           Title  \\\n",
              "0            4                         Surprisingly delightful   \n",
              "1            2                    Works, but not as advertised   \n",
              "2            2                                         Oh dear   \n",
              "3            2                                 Incorrect disc!   \n",
              "4            2                                  Incorrect Disc   \n",
              "...        ...                                             ...   \n",
              "649994       5                                    Pretty Cool!   \n",
              "649995       5                                        great cd   \n",
              "649996       2  An interesting look into Boston's comedy clubs   \n",
              "649997       5                      Du vol...pour les cowboys!   \n",
              "649998       4      A Companion Read To GUNS, GERMS, AND STEEL   \n",
              "\n",
              "                                                   Review  \n",
              "0       This is a fast read filled with unexpected hum...  \n",
              "1       I bought one of these chargers..the instructio...  \n",
              "2       I was excited to find a book ostensibly about ...  \n",
              "3       I am a big JVC fan, but I do not like this mod...  \n",
              "4       I love the style of this, but after a couple y...  \n",
              "...                                                   ...  \n",
              "649994  We got it for our mom's birthday. She LOVES it...  \n",
              "649995  this cd is very good. i especially love \"cats ...  \n",
              "649996  This was a good documentary on the history of ...  \n",
              "649997  Avez-vous déjà vu un CD double et un DVD avec ...  \n",
              "649998  If you like books that offer explanations for ...  \n",
              "\n",
              "[649999 rows x 3 columns]"
            ],
            "text/html": [
              "\n",
              "  <div id=\"df-2b6a56ba-3ff8-45bf-8af6-6a8d32370820\">\n",
              "    <div class=\"colab-df-container\">\n",
              "      <div>\n",
              "<style scoped>\n",
              "    .dataframe tbody tr th:only-of-type {\n",
              "        vertical-align: middle;\n",
              "    }\n",
              "\n",
              "    .dataframe tbody tr th {\n",
              "        vertical-align: top;\n",
              "    }\n",
              "\n",
              "    .dataframe thead th {\n",
              "        text-align: right;\n",
              "    }\n",
              "</style>\n",
              "<table border=\"1\" class=\"dataframe\">\n",
              "  <thead>\n",
              "    <tr style=\"text-align: right;\">\n",
              "      <th></th>\n",
              "      <th>Rating</th>\n",
              "      <th>Title</th>\n",
              "      <th>Review</th>\n",
              "    </tr>\n",
              "  </thead>\n",
              "  <tbody>\n",
              "    <tr>\n",
              "      <th>0</th>\n",
              "      <td>4</td>\n",
              "      <td>Surprisingly delightful</td>\n",
              "      <td>This is a fast read filled with unexpected hum...</td>\n",
              "    </tr>\n",
              "    <tr>\n",
              "      <th>1</th>\n",
              "      <td>2</td>\n",
              "      <td>Works, but not as advertised</td>\n",
              "      <td>I bought one of these chargers..the instructio...</td>\n",
              "    </tr>\n",
              "    <tr>\n",
              "      <th>2</th>\n",
              "      <td>2</td>\n",
              "      <td>Oh dear</td>\n",
              "      <td>I was excited to find a book ostensibly about ...</td>\n",
              "    </tr>\n",
              "    <tr>\n",
              "      <th>3</th>\n",
              "      <td>2</td>\n",
              "      <td>Incorrect disc!</td>\n",
              "      <td>I am a big JVC fan, but I do not like this mod...</td>\n",
              "    </tr>\n",
              "    <tr>\n",
              "      <th>4</th>\n",
              "      <td>2</td>\n",
              "      <td>Incorrect Disc</td>\n",
              "      <td>I love the style of this, but after a couple y...</td>\n",
              "    </tr>\n",
              "    <tr>\n",
              "      <th>...</th>\n",
              "      <td>...</td>\n",
              "      <td>...</td>\n",
              "      <td>...</td>\n",
              "    </tr>\n",
              "    <tr>\n",
              "      <th>649994</th>\n",
              "      <td>5</td>\n",
              "      <td>Pretty Cool!</td>\n",
              "      <td>We got it for our mom's birthday. She LOVES it...</td>\n",
              "    </tr>\n",
              "    <tr>\n",
              "      <th>649995</th>\n",
              "      <td>5</td>\n",
              "      <td>great cd</td>\n",
              "      <td>this cd is very good. i especially love \"cats ...</td>\n",
              "    </tr>\n",
              "    <tr>\n",
              "      <th>649996</th>\n",
              "      <td>2</td>\n",
              "      <td>An interesting look into Boston's comedy clubs</td>\n",
              "      <td>This was a good documentary on the history of ...</td>\n",
              "    </tr>\n",
              "    <tr>\n",
              "      <th>649997</th>\n",
              "      <td>5</td>\n",
              "      <td>Du vol...pour les cowboys!</td>\n",
              "      <td>Avez-vous déjà vu un CD double et un DVD avec ...</td>\n",
              "    </tr>\n",
              "    <tr>\n",
              "      <th>649998</th>\n",
              "      <td>4</td>\n",
              "      <td>A Companion Read To GUNS, GERMS, AND STEEL</td>\n",
              "      <td>If you like books that offer explanations for ...</td>\n",
              "    </tr>\n",
              "  </tbody>\n",
              "</table>\n",
              "<p>649999 rows × 3 columns</p>\n",
              "</div>\n",
              "      <button class=\"colab-df-convert\" onclick=\"convertToInteractive('df-2b6a56ba-3ff8-45bf-8af6-6a8d32370820')\"\n",
              "              title=\"Convert this dataframe to an interactive table.\"\n",
              "              style=\"display:none;\">\n",
              "        \n",
              "  <svg xmlns=\"http://www.w3.org/2000/svg\" height=\"24px\"viewBox=\"0 0 24 24\"\n",
              "       width=\"24px\">\n",
              "    <path d=\"M0 0h24v24H0V0z\" fill=\"none\"/>\n",
              "    <path d=\"M18.56 5.44l.94 2.06.94-2.06 2.06-.94-2.06-.94-.94-2.06-.94 2.06-2.06.94zm-11 1L8.5 8.5l.94-2.06 2.06-.94-2.06-.94L8.5 2.5l-.94 2.06-2.06.94zm10 10l.94 2.06.94-2.06 2.06-.94-2.06-.94-.94-2.06-.94 2.06-2.06.94z\"/><path d=\"M17.41 7.96l-1.37-1.37c-.4-.4-.92-.59-1.43-.59-.52 0-1.04.2-1.43.59L10.3 9.45l-7.72 7.72c-.78.78-.78 2.05 0 2.83L4 21.41c.39.39.9.59 1.41.59.51 0 1.02-.2 1.41-.59l7.78-7.78 2.81-2.81c.8-.78.8-2.07 0-2.86zM5.41 20L4 18.59l7.72-7.72 1.47 1.35L5.41 20z\"/>\n",
              "  </svg>\n",
              "      </button>\n",
              "      \n",
              "  <style>\n",
              "    .colab-df-container {\n",
              "      display:flex;\n",
              "      flex-wrap:wrap;\n",
              "      gap: 12px;\n",
              "    }\n",
              "\n",
              "    .colab-df-convert {\n",
              "      background-color: #E8F0FE;\n",
              "      border: none;\n",
              "      border-radius: 50%;\n",
              "      cursor: pointer;\n",
              "      display: none;\n",
              "      fill: #1967D2;\n",
              "      height: 32px;\n",
              "      padding: 0 0 0 0;\n",
              "      width: 32px;\n",
              "    }\n",
              "\n",
              "    .colab-df-convert:hover {\n",
              "      background-color: #E2EBFA;\n",
              "      box-shadow: 0px 1px 2px rgba(60, 64, 67, 0.3), 0px 1px 3px 1px rgba(60, 64, 67, 0.15);\n",
              "      fill: #174EA6;\n",
              "    }\n",
              "\n",
              "    [theme=dark] .colab-df-convert {\n",
              "      background-color: #3B4455;\n",
              "      fill: #D2E3FC;\n",
              "    }\n",
              "\n",
              "    [theme=dark] .colab-df-convert:hover {\n",
              "      background-color: #434B5C;\n",
              "      box-shadow: 0px 1px 3px 1px rgba(0, 0, 0, 0.15);\n",
              "      filter: drop-shadow(0px 1px 2px rgba(0, 0, 0, 0.3));\n",
              "      fill: #FFFFFF;\n",
              "    }\n",
              "  </style>\n",
              "\n",
              "      <script>\n",
              "        const buttonEl =\n",
              "          document.querySelector('#df-2b6a56ba-3ff8-45bf-8af6-6a8d32370820 button.colab-df-convert');\n",
              "        buttonEl.style.display =\n",
              "          google.colab.kernel.accessAllowed ? 'block' : 'none';\n",
              "\n",
              "        async function convertToInteractive(key) {\n",
              "          const element = document.querySelector('#df-2b6a56ba-3ff8-45bf-8af6-6a8d32370820');\n",
              "          const dataTable =\n",
              "            await google.colab.kernel.invokeFunction('convertToInteractive',\n",
              "                                                     [key], {});\n",
              "          if (!dataTable) return;\n",
              "\n",
              "          const docLinkHtml = 'Like what you see? Visit the ' +\n",
              "            '<a target=\"_blank\" href=https://colab.research.google.com/notebooks/data_table.ipynb>data table notebook</a>'\n",
              "            + ' to learn more about interactive tables.';\n",
              "          element.innerHTML = '';\n",
              "          dataTable['output_type'] = 'display_data';\n",
              "          await google.colab.output.renderOutput(dataTable, element);\n",
              "          const docLink = document.createElement('div');\n",
              "          docLink.innerHTML = docLinkHtml;\n",
              "          element.appendChild(docLink);\n",
              "        }\n",
              "      </script>\n",
              "    </div>\n",
              "  </div>\n",
              "  "
            ]
          },
          "metadata": {},
          "execution_count": 47
        }
      ]
    },
    {
      "cell_type": "code",
      "source": [
        "# Load the downsampled data\n",
        "data_dir = \"data\"\n",
        "data = pd.read_csv(join(data_dir, \"/content/drive/MyDrive/New folder (3)/test.csv\"), names=['Rating', 'Title', 'Review'])\n",
        "data = data.iloc[1:, :].reset_index(drop=True)\n",
        "data[\"Rating\"] = data[\"Rating\"].apply(int) \n",
        "data "
      ],
      "metadata": {
        "id": "TIHRhYxZswj7"
      },
      "execution_count": null,
      "outputs": []
    },
    {
      "cell_type": "code",
      "source": [
        "# Create train, val, and test sets\n",
        "train_data = shuffle(data)[:10000]\n",
        "X = train_data[\"Review\"].to_numpy()\n",
        "y = train_data[\"Rating\"].to_numpy() - 1\n",
        "X_train, X_test, y_train, y_test = train_test_split(X, y, test_size=0.1)\n",
        "X_train, X_val, y_train, y_val = train_test_split(X_train, y_train, test_size=0.2)\n",
        "print(f\"X_train: {X_train.shape} | X_val: {X_val.shape} | X_test: {X_test.shape} | \\n\" +\n",
        "    f\"y_train: {y_train.shape} | y_val: {y_val.shape} | y_test: {y_test.shape} | \")"
      ],
      "metadata": {
        "colab": {
          "base_uri": "https://localhost:8080/"
        },
        "id": "MWX_wTaG3QLR",
        "outputId": "756cdff0-3b8f-4a0c-b1bc-a3ecd68c1899"
      },
      "execution_count": null,
      "outputs": [
        {
          "output_type": "stream",
          "name": "stdout",
          "text": [
            "X_train: (7200,) | X_val: (1800,) | X_test: (1000,) | \n",
            "y_train: (7200,) | y_val: (1800,) | y_test: (1000,) | \n"
          ]
        }
      ]
    },
    {
      "cell_type": "code",
      "source": [
        "# Generate train embeddings\n",
        "def generate_bert_embeddings(data):\n",
        "    \"\"\"Generate the BERT embeddings for a given Series/list of senetences\"\"\"\n",
        "    return bert(bert_preprocess(data))['pooled_output'] \n",
        "\n",
        "def generate_embeddings_list(data):\n",
        "    \"\"\"Generate embeddings of parts of list individually and then concatenate. \n",
        "    Create to overcome performance issues.\"\"\"\n",
        "    factor = int(data.shape[0]/100)\n",
        "    embeddings_list = []\n",
        "    for i in tqdm(range(0, 100)):\n",
        "        embeddings_list.append(generate_bert_embeddings(X[factor*i: factor*(i+1)]))\n",
        "    return embeddings_list\n",
        "    \n",
        "el = generate_embeddings_list(X_train)\n",
        "embeddings = tf.stack(el)\n",
        "embeddings"
      ],
      "metadata": {
        "colab": {
          "base_uri": "https://localhost:8080/"
        },
        "id": "Toq7j0zW3euY",
        "outputId": "91a5938f-bcfe-4afa-abbb-b78918817d2a"
      },
      "execution_count": null,
      "outputs": [
        {
          "output_type": "stream",
          "name": "stderr",
          "text": [
            "100%|██████████| 100/100 [01:19<00:00,  1.26it/s]\n"
          ]
        },
        {
          "output_type": "execute_result",
          "data": {
            "text/plain": [
              "<tf.Tensor: shape=(100, 72, 768), dtype=float32, numpy=\n",
              "array([[[ 0.0900616 , -0.4532172 , -0.652321  , ..., -0.54165864,\n",
              "         -0.9588632 ,  0.31585604],\n",
              "        [ 0.51571536,  0.25872046,  0.06516591, ...,  0.42662263,\n",
              "         -0.8764822 ,  0.05033148],\n",
              "        [-0.2815941 ,  0.3477749 ,  0.4439234 , ...,  0.69486296,\n",
              "         -0.0643404 , -0.446399  ],\n",
              "        ...,\n",
              "        [ 0.753392  , -0.28890267, -0.72111475, ..., -0.24461575,\n",
              "         -0.72481364,  0.19374281],\n",
              "        [ 0.40570992, -0.09468772, -0.32857513, ..., -0.43947577,\n",
              "         -0.7170279 ,  0.40430045],\n",
              "        [ 0.11421046, -0.11081295, -0.17730817, ..., -0.8136289 ,\n",
              "         -0.87226087,  0.02638107]],\n",
              "\n",
              "       [[ 0.535285  ,  0.2176286 , -0.73231095, ..., -0.21199219,\n",
              "         -0.9305786 ,  0.6611189 ],\n",
              "        [ 0.84777546,  0.31314522, -0.6616786 , ..., -0.7942632 ,\n",
              "         -0.61793417, -0.18193899],\n",
              "        [ 0.5037986 ,  0.03910458, -0.0196217 , ...,  0.28836587,\n",
              "         -0.47050852, -0.62360364],\n",
              "        ...,\n",
              "        [-0.09529018, -0.1987073 ,  0.23610033, ...,  0.3975432 ,\n",
              "         -0.4929388 , -0.32355914],\n",
              "        [ 0.2526295 ,  0.00273349, -0.74238753, ..., -0.5058555 ,\n",
              "         -0.38205335,  0.0575362 ],\n",
              "        [-0.11176811,  0.06481193, -0.38808084, ..., -0.81548744,\n",
              "         -0.9408347 ,  0.56247145]],\n",
              "\n",
              "       [[ 0.3174471 , -0.60602933, -0.21523176, ..., -0.87323755,\n",
              "         -0.9490945 ,  0.31464556],\n",
              "        [ 0.16275664,  0.03109882,  0.39034152, ...,  0.65182734,\n",
              "          0.5407348 , -0.52083874],\n",
              "        [ 0.60637283,  0.20931207, -0.17548826, ..., -0.9034884 ,\n",
              "         -0.56153816,  0.07668339],\n",
              "        ...,\n",
              "        [ 0.24319427, -0.59319365,  0.6476426 , ...,  0.6141252 ,\n",
              "         -0.6235986 , -0.16468243],\n",
              "        [ 0.2688785 , -0.28233993,  0.03873126, ..., -0.43395838,\n",
              "         -0.6329548 ,  0.128797  ],\n",
              "        [ 0.32679603, -0.35016775, -0.3833285 , ...,  0.19067681,\n",
              "         -0.95946497, -0.00755139]],\n",
              "\n",
              "       ...,\n",
              "\n",
              "       [[ 0.45986623,  0.03272562, -0.5900995 , ..., -0.6681561 ,\n",
              "         -0.91826713,  0.16715099],\n",
              "        [ 0.46010232,  0.06336576, -0.48693812, ..., -0.583825  ,\n",
              "         -0.9382907 ,  0.20603774],\n",
              "        [ 0.5344156 , -0.14713585,  0.40142956, ...,  0.59751534,\n",
              "          0.57376665, -0.37678376],\n",
              "        ...,\n",
              "        [ 0.7071019 ,  0.7345605 , -0.10105021, ...,  0.6731802 ,\n",
              "          0.7545127 , -0.38394666],\n",
              "        [ 0.2781593 , -0.57869256, -0.47775334, ..., -0.6525281 ,\n",
              "         -0.86069095,  0.2535153 ],\n",
              "        [-0.01999382, -0.46326765,  0.2854641 , ..., -0.38228038,\n",
              "         -0.8992769 ,  0.7094218 ]],\n",
              "\n",
              "       [[ 0.7318577 ,  0.07776191,  0.3386621 , ..., -0.13323362,\n",
              "         -0.728834  ,  0.37512618],\n",
              "        [ 0.51384485,  0.58842427,  0.25053793, ...,  0.5670861 ,\n",
              "          0.17308885, -0.7103023 ],\n",
              "        [ 0.09740606,  0.14150971, -0.13943334, ..., -0.7853423 ,\n",
              "         -0.9175139 , -0.05850663],\n",
              "        ...,\n",
              "        [ 0.16046464, -0.01353181,  0.07481952, ..., -0.03495549,\n",
              "          0.25104424, -0.941572  ],\n",
              "        [ 0.07438072, -0.39845246,  0.80366284, ...,  0.02984631,\n",
              "          0.29990974, -0.19058917],\n",
              "        [ 0.19796516,  0.6073259 , -0.09755382, ..., -0.7625244 ,\n",
              "         -0.9448965 , -0.4499132 ]],\n",
              "\n",
              "       [[-0.28045973,  0.14363529,  0.20927626, ..., -0.28345594,\n",
              "         -0.8118879 ,  0.20264278],\n",
              "        [ 0.15899523, -0.70766   , -0.5011892 , ..., -0.6350076 ,\n",
              "         -0.8003828 ,  0.58457667],\n",
              "        [ 0.27960014, -0.22294647, -0.38708252, ...,  0.11105116,\n",
              "         -0.22775486,  0.11000523],\n",
              "        ...,\n",
              "        [ 0.0327976 , -0.46262062,  0.50701076, ...,  0.7714436 ,\n",
              "         -0.2418698 , -0.3623599 ],\n",
              "        [ 0.21085693,  0.64833033,  0.73894423, ...,  0.6069423 ,\n",
              "          0.64868516, -0.47933754],\n",
              "        [ 0.6505831 , -0.31868437, -0.47561163, ..., -0.7805055 ,\n",
              "         -0.91387   ,  0.6763126 ]]], dtype=float32)>"
            ]
          },
          "metadata": {},
          "execution_count": 50
        }
      ]
    },
    {
      "cell_type": "code",
      "source": [
        "embeddings = tf.reshape(embeddings, (7200, 768))"
      ],
      "metadata": {
        "id": "vYagE7yM3iua"
      },
      "execution_count": null,
      "outputs": []
    },
    {
      "cell_type": "code",
      "source": [
        "# Save train embeddings\n",
        "import pickle\n",
        "pickle.dump(embeddings, open(join(data_dir, \"/content/drive/MyDrive/New folder (3)/train.csv\"), \"wb\"))\n",
        "pickle.dump(y_train, open(join(data_dir, \"/content/drive/MyDrive/New folder (3)/test.csv\"), \"wb\"))"
      ],
      "metadata": {
        "id": "-lHz9c9nC-hl"
      },
      "execution_count": null,
      "outputs": []
    },
    {
      "cell_type": "code",
      "source": [
        "# General Imports\n",
        "from os.path import join\n",
        "import multiprocessing\n",
        "import pickle\n",
        "import numpy as np\n",
        "import pandas as pd\n",
        "\n",
        "# Classifier Imports\n",
        "from sklearn.ensemble import RandomForestClassifier\n",
        "from sklearn.svm import LinearSVC\n",
        "from sklearn.linear_model import LogisticRegression\n",
        "from sklearn.model_selection import GridSearchCV, KFold\n",
        "\n",
        "\n",
        "SEED = 0\n",
        "CPU_COUNT = multiprocessing.cpu_count() - 2"
      ],
      "metadata": {
        "id": "LTyRdnMTfA1w"
      },
      "execution_count": null,
      "outputs": []
    },
    {
      "cell_type": "code",
      "source": [
        "# Wrapper class for a general SKLearn classifier\n",
        "class Classifier():\n",
        "    def __init__(self, classifier_name, classifier, init_params, param_grid, seed):\n",
        "        self.classifier_name = classifier_name\n",
        "        self.seed = seed\n",
        "        self.param_grid = param_grid\n",
        "\n",
        "        #Init classifier\n",
        "        self.init_params = init_params\n",
        "        self.init_params[\"random_state\"] = seed\n",
        "        self.classifier = classifier(**self.init_params) if init_params else classifier(random_state=seed)\n",
        "\n",
        "        #Dict to explicitly store best stats\n",
        "        self.best_stats = {\"best_params\": None, \"best_score\": None}\n",
        "    \n",
        "    def fit(self, X, y):\n",
        "        print(f\"Fitting {self.classifier_name} model...\")\n",
        "        self.classifier.fit(X, y)\n",
        "\n",
        "    def predict(self, X):\n",
        "        return self.classifier.predict(X)\n",
        "    \n",
        "    def evaluate(self, X_test, y_test):\n",
        "        return self.classifier.score(X_test, y_test)\n",
        "    \n",
        "    def tune_hyperparameters(self, X, y):\n",
        "        print(f\"Tuning hyperparameters for {self.classifier_name} model...\")\n",
        "        cv = KFold(n_splits=5, random_state=self.seed, shuffle=True)\n",
        "        gscv = GridSearchCV(self.classifier, self.param_grid, scoring=\"accuracy\", cv=cv, n_jobs=-1)\n",
        "        gscv.fit(X, y)\n",
        "        self.classifier = gscv.best_estimator_\n",
        "        self.best_stats[\"best_params\"], self.best_stats[\"best_score\"] = gscv.best_params_, gscv.best_score_"
      ],
      "metadata": {
        "id": "p6g_6szvf5nh"
      },
      "execution_count": null,
      "outputs": []
    },
    {
      "cell_type": "code",
      "source": [
        "# Loading train, val, and test data (BERT text embeddings and corresponding labels)\n",
        "data_dir = \"data/\"\n",
        "\n",
        "X_train = pickle.load(open(join(data_dir, \"/content/drive/MyDrive/New folder (3)/train.csv\"), \"rb\")).numpy()\n",
        "y_train = pickle.load(open(join(data_dir, \"/content/drive/MyDrive/New folder (3)/test.csv\"), \"rb\"))\n",
        "X_val = pickle.load(open(join(data_dir, \"/content/drive/MyDrive/New folder (3)/test.csvl\"), \"rb\")).numpy()\n",
        "y_val = pickle.load(open(join(data_dir, \"/content/drive/MyDrive/New folder (3)/test.csv\"), \"rb\"))\n",
        "X_test = pickle.load(open(join(data_dir, \"/content/drive/MyDrive/New folder (3)/train.csv\"), \"rb\")).numpy()\n",
        "y_test = pickle.load(open(join(data_dir, \"/content/drive/MyDrive/New folder (3)/test.csv\"), \"rb\"))\n",
        "\n",
        "# Combine train and validation set into one as we use K-Fold cross validation\n",
        "X_train = np.concatenate([X_train, X_val])\n",
        "y_train = np.concatenate([y_train, y_val])\n",
        "\n",
        "print(f\"X_train: {X_train.shape} | X_test: {X_test.shape} | \\n\" +\n",
        "    f\"y_train: {y_train.shape} | y_test: {y_test.shape} | \")"
      ],
      "metadata": {
        "colab": {
          "base_uri": "https://localhost:8080/"
        },
        "id": "2G6B5200f6GO",
        "outputId": "367ad401-649c-4060-b23b-aef0217615fd"
      },
      "execution_count": null,
      "outputs": [
        {
          "output_type": "stream",
          "name": "stdout",
          "text": [
            "X_train: (14400, 768) | X_test: (7200, 768) | \n",
            "y_train: (14400,) | y_test: (7200,) | \n"
          ]
        }
      ]
    },
    {
      "cell_type": "code",
      "source": [
        "# Create list of classifiers\n",
        "SEED = 0\n",
        "param_grids = []\n",
        "\n",
        "# Create parameter grids for hyperparameter tuning\n",
        "rf_param_grid = {\"max_features\": [\"sqrt\", \"log2\"],\n",
        "                    \"max_depth\" : [3, 6, 8],\n",
        "                    \"criterion\" :[\"gini\", \"entropy\"]     ,\n",
        "                    \"n_jobs\": [-1]}\n",
        "\n",
        "lsvc_param_grid = {\"penalty\": [\"l2\"],\n",
        "                   \"C\": [0.0001, 0.01, 1.0, 10, 100]}\n",
        "\n",
        "lreg_param_grid = {'penalty' : ['l1', 'l2'],\n",
        "                     'C' : np.logspace(-4, 4, 20)}\n",
        "\n",
        "clf_names = [\"RandomForest\", \"LinearSVC\", \"LogisticRegression\"]\n",
        "clfs = [RandomForestClassifier, LinearSVC, LogisticRegression]\n",
        "init_params = [{'n_jobs': CPU_COUNT}, {'multi_class': 'crammer_singer'}, {'multi_class': 'multinomial', 'solver': 'lbfgs'}]\n",
        "param_grids.extend([rf_param_grid, lsvc_param_grid, lreg_param_grid])\n",
        "\n",
        "\n",
        "classifiers = [Classifier(name, model, {}, param_grid, SEED) "
      ],
      "metadata": {
        "id": "_0TQ61DTf-i9"
      },
      "execution_count": null,
      "outputs": []
    },
    {
      "cell_type": "code",
      "source": [
        "# Fit classifiers\n",
        "[clf.fit(X_train, y_train) for clf in classifiers]"
      ],
      "metadata": {
        "id": "VtoDlWTigDRR"
      },
      "execution_count": null,
      "outputs": []
    },
    {
      "cell_type": "code",
      "source": [
        "# Score classifier\n",
        "[clf.evaluate(X_test, y_test) for clf in classifiers]"
      ],
      "metadata": {
        "id": "b-dmmtqPgHPV"
      },
      "execution_count": null,
      "outputs": []
    },
    {
      "cell_type": "code",
      "source": [
        "# Save models\n",
        "models_dir = \"models/\"\n",
        "for clf in classifiers:\n",
        "    pickle.dump(clf, open(join(models_dir, f\"{clf.classifier_name}.pkl\"), \"wb\")) \n"
      ],
      "metadata": {
        "id": "xKleuZ9xhgYD"
      },
      "execution_count": null,
      "outputs": []
    },
    {
      "cell_type": "code",
      "source": [
        "# General Imports\n",
        "import pandas as pd \n",
        "from sklearn.model_selection import train_test_split\n",
        "from sklearn.utils import shuffle\n",
        "from os.path import join\n",
        "\n",
        "# NN-related imports\n",
        "import tensorflow as tf\n",
        "import tensorflow_hub as hub \n",
        "import tensorflow_text as text \n",
        "\n",
        "print(tf.test.is_built_with_cuda())\n",
        "print(tf.config.list_physical_devices('GPU'))"
      ],
      "metadata": {
        "colab": {
          "base_uri": "https://localhost:8080/"
        },
        "id": "mD6huHN8hq2E",
        "outputId": "60cf54fc-8796-4095-d44c-bfded6234b91"
      },
      "execution_count": null,
      "outputs": [
        {
          "output_type": "stream",
          "name": "stdout",
          "text": [
            "True\n",
            "[PhysicalDevice(name='/physical_device:GPU:0', device_type='GPU')]\n"
          ]
        }
      ]
    },
    {
      "cell_type": "code",
      "source": [
        "bert_preprocess = hub.KerasLayer('https://tfhub.dev/tensorflow/bert_en_uncased_preprocess/3')\n",
        "bert = hub.KerasLayer('https://tfhub.dev/google/experts/bert/wiki_books/sst2/2')\n"
      ],
      "metadata": {
        "id": "fAq63rzphrR9"
      },
      "execution_count": null,
      "outputs": []
    },
    {
      "cell_type": "code",
      "source": [
        "data_dir = \"data/\"\n",
        "data = pd.read_csv(join(data_dir, \"/content/drive/MyDrive/New folder (3)/test.csv\"))[[\"Rating\", \"Review\"]]\n",
        "data[\"Review\"] = data[\"Review\"].apply(str)\n",
        "display(data)"
      ],
      "metadata": {
        "colab": {
          "base_uri": "https://localhost:8080/",
          "height": 276
        },
        "id": "KZRTaGS8hxwc",
        "outputId": "b03d9696-c657-40c8-a80b-9f2e00987e8a"
      },
      "execution_count": null,
      "outputs": [
        {
          "output_type": "error",
          "ename": "UnicodeDecodeError",
          "evalue": "ignored",
          "traceback": [
            "\u001b[0;31m---------------------------------------------------------------------------\u001b[0m",
            "\u001b[0;31mUnicodeDecodeError\u001b[0m                        Traceback (most recent call last)",
            "\u001b[0;32m<ipython-input-73-8b825067e1e7>\u001b[0m in \u001b[0;36m<module>\u001b[0;34m\u001b[0m\n\u001b[1;32m      1\u001b[0m \u001b[0mdata_dir\u001b[0m \u001b[0;34m=\u001b[0m \u001b[0;34m\"data/\"\u001b[0m\u001b[0;34m\u001b[0m\u001b[0;34m\u001b[0m\u001b[0m\n\u001b[0;32m----> 2\u001b[0;31m \u001b[0mdata\u001b[0m \u001b[0;34m=\u001b[0m \u001b[0mpd\u001b[0m\u001b[0;34m.\u001b[0m\u001b[0mread_csv\u001b[0m\u001b[0;34m(\u001b[0m\u001b[0mjoin\u001b[0m\u001b[0;34m(\u001b[0m\u001b[0mdata_dir\u001b[0m\u001b[0;34m,\u001b[0m \u001b[0;34m\"/content/drive/MyDrive/New folder (3)/test.csv\"\u001b[0m\u001b[0;34m)\u001b[0m\u001b[0;34m)\u001b[0m\u001b[0;34m[\u001b[0m\u001b[0;34m[\u001b[0m\u001b[0;34m\"Rating\"\u001b[0m\u001b[0;34m,\u001b[0m \u001b[0;34m\"Review\"\u001b[0m\u001b[0;34m]\u001b[0m\u001b[0;34m]\u001b[0m\u001b[0;34m\u001b[0m\u001b[0;34m\u001b[0m\u001b[0m\n\u001b[0m\u001b[1;32m      3\u001b[0m \u001b[0mdata\u001b[0m\u001b[0;34m[\u001b[0m\u001b[0;34m\"Review\"\u001b[0m\u001b[0;34m]\u001b[0m \u001b[0;34m=\u001b[0m \u001b[0mdata\u001b[0m\u001b[0;34m[\u001b[0m\u001b[0;34m\"Review\"\u001b[0m\u001b[0;34m]\u001b[0m\u001b[0;34m.\u001b[0m\u001b[0mapply\u001b[0m\u001b[0;34m(\u001b[0m\u001b[0mstr\u001b[0m\u001b[0;34m)\u001b[0m\u001b[0;34m\u001b[0m\u001b[0;34m\u001b[0m\u001b[0m\n\u001b[1;32m      4\u001b[0m \u001b[0mdisplay\u001b[0m\u001b[0;34m(\u001b[0m\u001b[0mdata\u001b[0m\u001b[0;34m)\u001b[0m\u001b[0;34m\u001b[0m\u001b[0;34m\u001b[0m\u001b[0m\n",
            "\u001b[0;32m/usr/local/lib/python3.8/dist-packages/pandas/util/_decorators.py\u001b[0m in \u001b[0;36mwrapper\u001b[0;34m(*args, **kwargs)\u001b[0m\n\u001b[1;32m    309\u001b[0m                     \u001b[0mstacklevel\u001b[0m\u001b[0;34m=\u001b[0m\u001b[0mstacklevel\u001b[0m\u001b[0;34m,\u001b[0m\u001b[0;34m\u001b[0m\u001b[0;34m\u001b[0m\u001b[0m\n\u001b[1;32m    310\u001b[0m                 )\n\u001b[0;32m--> 311\u001b[0;31m             \u001b[0;32mreturn\u001b[0m \u001b[0mfunc\u001b[0m\u001b[0;34m(\u001b[0m\u001b[0;34m*\u001b[0m\u001b[0margs\u001b[0m\u001b[0;34m,\u001b[0m \u001b[0;34m**\u001b[0m\u001b[0mkwargs\u001b[0m\u001b[0;34m)\u001b[0m\u001b[0;34m\u001b[0m\u001b[0;34m\u001b[0m\u001b[0m\n\u001b[0m\u001b[1;32m    312\u001b[0m \u001b[0;34m\u001b[0m\u001b[0m\n\u001b[1;32m    313\u001b[0m         \u001b[0;32mreturn\u001b[0m \u001b[0mwrapper\u001b[0m\u001b[0;34m\u001b[0m\u001b[0;34m\u001b[0m\u001b[0m\n",
            "\u001b[0;32m/usr/local/lib/python3.8/dist-packages/pandas/io/parsers/readers.py\u001b[0m in \u001b[0;36mread_csv\u001b[0;34m(filepath_or_buffer, sep, delimiter, header, names, index_col, usecols, squeeze, prefix, mangle_dupe_cols, dtype, engine, converters, true_values, false_values, skipinitialspace, skiprows, skipfooter, nrows, na_values, keep_default_na, na_filter, verbose, skip_blank_lines, parse_dates, infer_datetime_format, keep_date_col, date_parser, dayfirst, cache_dates, iterator, chunksize, compression, thousands, decimal, lineterminator, quotechar, quoting, doublequote, escapechar, comment, encoding, encoding_errors, dialect, error_bad_lines, warn_bad_lines, on_bad_lines, delim_whitespace, low_memory, memory_map, float_precision, storage_options)\u001b[0m\n\u001b[1;32m    584\u001b[0m     \u001b[0mkwds\u001b[0m\u001b[0;34m.\u001b[0m\u001b[0mupdate\u001b[0m\u001b[0;34m(\u001b[0m\u001b[0mkwds_defaults\u001b[0m\u001b[0;34m)\u001b[0m\u001b[0;34m\u001b[0m\u001b[0;34m\u001b[0m\u001b[0m\n\u001b[1;32m    585\u001b[0m \u001b[0;34m\u001b[0m\u001b[0m\n\u001b[0;32m--> 586\u001b[0;31m     \u001b[0;32mreturn\u001b[0m \u001b[0m_read\u001b[0m\u001b[0;34m(\u001b[0m\u001b[0mfilepath_or_buffer\u001b[0m\u001b[0;34m,\u001b[0m \u001b[0mkwds\u001b[0m\u001b[0;34m)\u001b[0m\u001b[0;34m\u001b[0m\u001b[0;34m\u001b[0m\u001b[0m\n\u001b[0m\u001b[1;32m    587\u001b[0m \u001b[0;34m\u001b[0m\u001b[0m\n\u001b[1;32m    588\u001b[0m \u001b[0;34m\u001b[0m\u001b[0m\n",
            "\u001b[0;32m/usr/local/lib/python3.8/dist-packages/pandas/io/parsers/readers.py\u001b[0m in \u001b[0;36m_read\u001b[0;34m(filepath_or_buffer, kwds)\u001b[0m\n\u001b[1;32m    480\u001b[0m \u001b[0;34m\u001b[0m\u001b[0m\n\u001b[1;32m    481\u001b[0m     \u001b[0;31m# Create the parser.\u001b[0m\u001b[0;34m\u001b[0m\u001b[0;34m\u001b[0m\u001b[0;34m\u001b[0m\u001b[0m\n\u001b[0;32m--> 482\u001b[0;31m     \u001b[0mparser\u001b[0m \u001b[0;34m=\u001b[0m \u001b[0mTextFileReader\u001b[0m\u001b[0;34m(\u001b[0m\u001b[0mfilepath_or_buffer\u001b[0m\u001b[0;34m,\u001b[0m \u001b[0;34m**\u001b[0m\u001b[0mkwds\u001b[0m\u001b[0;34m)\u001b[0m\u001b[0;34m\u001b[0m\u001b[0;34m\u001b[0m\u001b[0m\n\u001b[0m\u001b[1;32m    483\u001b[0m \u001b[0;34m\u001b[0m\u001b[0m\n\u001b[1;32m    484\u001b[0m     \u001b[0;32mif\u001b[0m \u001b[0mchunksize\u001b[0m \u001b[0;32mor\u001b[0m \u001b[0miterator\u001b[0m\u001b[0;34m:\u001b[0m\u001b[0;34m\u001b[0m\u001b[0;34m\u001b[0m\u001b[0m\n",
            "\u001b[0;32m/usr/local/lib/python3.8/dist-packages/pandas/io/parsers/readers.py\u001b[0m in \u001b[0;36m__init__\u001b[0;34m(self, f, engine, **kwds)\u001b[0m\n\u001b[1;32m    809\u001b[0m             \u001b[0mself\u001b[0m\u001b[0;34m.\u001b[0m\u001b[0moptions\u001b[0m\u001b[0;34m[\u001b[0m\u001b[0;34m\"has_index_names\"\u001b[0m\u001b[0;34m]\u001b[0m \u001b[0;34m=\u001b[0m \u001b[0mkwds\u001b[0m\u001b[0;34m[\u001b[0m\u001b[0;34m\"has_index_names\"\u001b[0m\u001b[0;34m]\u001b[0m\u001b[0;34m\u001b[0m\u001b[0;34m\u001b[0m\u001b[0m\n\u001b[1;32m    810\u001b[0m \u001b[0;34m\u001b[0m\u001b[0m\n\u001b[0;32m--> 811\u001b[0;31m         \u001b[0mself\u001b[0m\u001b[0;34m.\u001b[0m\u001b[0m_engine\u001b[0m \u001b[0;34m=\u001b[0m \u001b[0mself\u001b[0m\u001b[0;34m.\u001b[0m\u001b[0m_make_engine\u001b[0m\u001b[0;34m(\u001b[0m\u001b[0mself\u001b[0m\u001b[0;34m.\u001b[0m\u001b[0mengine\u001b[0m\u001b[0;34m)\u001b[0m\u001b[0;34m\u001b[0m\u001b[0;34m\u001b[0m\u001b[0m\n\u001b[0m\u001b[1;32m    812\u001b[0m \u001b[0;34m\u001b[0m\u001b[0m\n\u001b[1;32m    813\u001b[0m     \u001b[0;32mdef\u001b[0m \u001b[0mclose\u001b[0m\u001b[0;34m(\u001b[0m\u001b[0mself\u001b[0m\u001b[0;34m)\u001b[0m\u001b[0;34m:\u001b[0m\u001b[0;34m\u001b[0m\u001b[0;34m\u001b[0m\u001b[0m\n",
            "\u001b[0;32m/usr/local/lib/python3.8/dist-packages/pandas/io/parsers/readers.py\u001b[0m in \u001b[0;36m_make_engine\u001b[0;34m(self, engine)\u001b[0m\n\u001b[1;32m   1038\u001b[0m             )\n\u001b[1;32m   1039\u001b[0m         \u001b[0;31m# error: Too many arguments for \"ParserBase\"\u001b[0m\u001b[0;34m\u001b[0m\u001b[0;34m\u001b[0m\u001b[0;34m\u001b[0m\u001b[0m\n\u001b[0;32m-> 1040\u001b[0;31m         \u001b[0;32mreturn\u001b[0m \u001b[0mmapping\u001b[0m\u001b[0;34m[\u001b[0m\u001b[0mengine\u001b[0m\u001b[0;34m]\u001b[0m\u001b[0;34m(\u001b[0m\u001b[0mself\u001b[0m\u001b[0;34m.\u001b[0m\u001b[0mf\u001b[0m\u001b[0;34m,\u001b[0m \u001b[0;34m**\u001b[0m\u001b[0mself\u001b[0m\u001b[0;34m.\u001b[0m\u001b[0moptions\u001b[0m\u001b[0;34m)\u001b[0m  \u001b[0;31m# type: ignore[call-arg]\u001b[0m\u001b[0;34m\u001b[0m\u001b[0;34m\u001b[0m\u001b[0m\n\u001b[0m\u001b[1;32m   1041\u001b[0m \u001b[0;34m\u001b[0m\u001b[0m\n\u001b[1;32m   1042\u001b[0m     \u001b[0;32mdef\u001b[0m \u001b[0m_failover_to_python\u001b[0m\u001b[0;34m(\u001b[0m\u001b[0mself\u001b[0m\u001b[0;34m)\u001b[0m\u001b[0;34m:\u001b[0m\u001b[0;34m\u001b[0m\u001b[0;34m\u001b[0m\u001b[0m\n",
            "\u001b[0;32m/usr/local/lib/python3.8/dist-packages/pandas/io/parsers/c_parser_wrapper.py\u001b[0m in \u001b[0;36m__init__\u001b[0;34m(self, src, **kwds)\u001b[0m\n\u001b[1;32m     67\u001b[0m         \u001b[0mkwds\u001b[0m\u001b[0;34m[\u001b[0m\u001b[0;34m\"dtype\"\u001b[0m\u001b[0;34m]\u001b[0m \u001b[0;34m=\u001b[0m \u001b[0mensure_dtype_objs\u001b[0m\u001b[0;34m(\u001b[0m\u001b[0mkwds\u001b[0m\u001b[0;34m.\u001b[0m\u001b[0mget\u001b[0m\u001b[0;34m(\u001b[0m\u001b[0;34m\"dtype\"\u001b[0m\u001b[0;34m,\u001b[0m \u001b[0;32mNone\u001b[0m\u001b[0;34m)\u001b[0m\u001b[0;34m)\u001b[0m\u001b[0;34m\u001b[0m\u001b[0;34m\u001b[0m\u001b[0m\n\u001b[1;32m     68\u001b[0m         \u001b[0;32mtry\u001b[0m\u001b[0;34m:\u001b[0m\u001b[0;34m\u001b[0m\u001b[0;34m\u001b[0m\u001b[0m\n\u001b[0;32m---> 69\u001b[0;31m             \u001b[0mself\u001b[0m\u001b[0;34m.\u001b[0m\u001b[0m_reader\u001b[0m \u001b[0;34m=\u001b[0m \u001b[0mparsers\u001b[0m\u001b[0;34m.\u001b[0m\u001b[0mTextReader\u001b[0m\u001b[0;34m(\u001b[0m\u001b[0mself\u001b[0m\u001b[0;34m.\u001b[0m\u001b[0mhandles\u001b[0m\u001b[0;34m.\u001b[0m\u001b[0mhandle\u001b[0m\u001b[0;34m,\u001b[0m \u001b[0;34m**\u001b[0m\u001b[0mkwds\u001b[0m\u001b[0;34m)\u001b[0m\u001b[0;34m\u001b[0m\u001b[0;34m\u001b[0m\u001b[0m\n\u001b[0m\u001b[1;32m     70\u001b[0m         \u001b[0;32mexcept\u001b[0m \u001b[0mException\u001b[0m\u001b[0;34m:\u001b[0m\u001b[0;34m\u001b[0m\u001b[0;34m\u001b[0m\u001b[0m\n\u001b[1;32m     71\u001b[0m             \u001b[0mself\u001b[0m\u001b[0;34m.\u001b[0m\u001b[0mhandles\u001b[0m\u001b[0;34m.\u001b[0m\u001b[0mclose\u001b[0m\u001b[0;34m(\u001b[0m\u001b[0;34m)\u001b[0m\u001b[0;34m\u001b[0m\u001b[0;34m\u001b[0m\u001b[0m\n",
            "\u001b[0;32m/usr/local/lib/python3.8/dist-packages/pandas/_libs/parsers.pyx\u001b[0m in \u001b[0;36mpandas._libs.parsers.TextReader.__cinit__\u001b[0;34m()\u001b[0m\n",
            "\u001b[0;32m/usr/local/lib/python3.8/dist-packages/pandas/_libs/parsers.pyx\u001b[0m in \u001b[0;36mpandas._libs.parsers.TextReader._get_header\u001b[0;34m()\u001b[0m\n",
            "\u001b[0;32m/usr/local/lib/python3.8/dist-packages/pandas/_libs/parsers.pyx\u001b[0m in \u001b[0;36mpandas._libs.parsers.TextReader._tokenize_rows\u001b[0;34m()\u001b[0m\n",
            "\u001b[0;32m/usr/local/lib/python3.8/dist-packages/pandas/_libs/parsers.pyx\u001b[0m in \u001b[0;36mpandas._libs.parsers.raise_parser_error\u001b[0;34m()\u001b[0m\n",
            "\u001b[0;31mUnicodeDecodeError\u001b[0m: 'utf-8' codec can't decode byte 0x80 in position 0: invalid start byte"
          ]
        }
      ]
    },
    {
      "cell_type": "code",
      "source": [
        "def build_model():\n",
        "    \"\"\"Build model with custom classifier stacked on top of BERT encoder\"\"\"\n",
        "    text_input = tf.keras.layers.Input(shape=(), dtype=tf.string, name='txt_input')\n",
        "    bert_input = bert_preprocess(text_input)\n",
        "    bert_output = bert(bert_input)\n",
        "    clf_input = bert_output['pooled_output']\n",
        "    clf = tf.keras.layers.Dropout(0.1)(clf_input) \n",
        "    clf = tf.keras.layers.Dense(384, activation='sigmoid', kernel_regularizer='l2')(clf)\n",
        "    clf = tf.keras.layers.Dropout(0.1)(clf)\n",
        "    clf = tf.keras.layers.Dense(5, activation='sigmoid', name='clf')(clf)\n",
        "    return tf.keras.Model(text_input, clf)\n",
        "\n",
        "model = build_model() "
      ],
      "metadata": {
        "colab": {
          "base_uri": "https://localhost:8080/",
          "height": 321
        },
        "id": "Q9KNLImlh4pQ",
        "outputId": "363a1290-5d40-4299-8dd5-0a681af78dde"
      },
      "execution_count": null,
      "outputs": [
        {
          "output_type": "error",
          "ename": "NameError",
          "evalue": "ignored",
          "traceback": [
            "\u001b[0;31m---------------------------------------------------------------------------\u001b[0m",
            "\u001b[0;31mNameError\u001b[0m                                 Traceback (most recent call last)",
            "\u001b[0;32m<ipython-input-10-97d57d409af7>\u001b[0m in \u001b[0;36m<module>\u001b[0;34m\u001b[0m\n\u001b[1;32m     11\u001b[0m     \u001b[0;32mreturn\u001b[0m \u001b[0mtf\u001b[0m\u001b[0;34m.\u001b[0m\u001b[0mkeras\u001b[0m\u001b[0;34m.\u001b[0m\u001b[0mModel\u001b[0m\u001b[0;34m(\u001b[0m\u001b[0mtext_input\u001b[0m\u001b[0;34m,\u001b[0m \u001b[0mclf\u001b[0m\u001b[0;34m)\u001b[0m\u001b[0;34m\u001b[0m\u001b[0;34m\u001b[0m\u001b[0m\n\u001b[1;32m     12\u001b[0m \u001b[0;34m\u001b[0m\u001b[0m\n\u001b[0;32m---> 13\u001b[0;31m \u001b[0mmodel\u001b[0m \u001b[0;34m=\u001b[0m \u001b[0mbuild_model\u001b[0m\u001b[0;34m(\u001b[0m\u001b[0;34m)\u001b[0m\u001b[0;34m\u001b[0m\u001b[0;34m\u001b[0m\u001b[0m\n\u001b[0m",
            "\u001b[0;32m<ipython-input-10-97d57d409af7>\u001b[0m in \u001b[0;36mbuild_model\u001b[0;34m()\u001b[0m\n\u001b[1;32m      2\u001b[0m     \u001b[0;34m\"\"\"Build model with custom classifier stacked on top of BERT encoder\"\"\"\u001b[0m\u001b[0;34m\u001b[0m\u001b[0;34m\u001b[0m\u001b[0m\n\u001b[1;32m      3\u001b[0m     \u001b[0mtext_input\u001b[0m \u001b[0;34m=\u001b[0m \u001b[0mtf\u001b[0m\u001b[0;34m.\u001b[0m\u001b[0mkeras\u001b[0m\u001b[0;34m.\u001b[0m\u001b[0mlayers\u001b[0m\u001b[0;34m.\u001b[0m\u001b[0mInput\u001b[0m\u001b[0;34m(\u001b[0m\u001b[0mshape\u001b[0m\u001b[0;34m=\u001b[0m\u001b[0;34m(\u001b[0m\u001b[0;34m)\u001b[0m\u001b[0;34m,\u001b[0m \u001b[0mdtype\u001b[0m\u001b[0;34m=\u001b[0m\u001b[0mtf\u001b[0m\u001b[0;34m.\u001b[0m\u001b[0mstring\u001b[0m\u001b[0;34m,\u001b[0m \u001b[0mname\u001b[0m\u001b[0;34m=\u001b[0m\u001b[0;34m'txt_input'\u001b[0m\u001b[0;34m)\u001b[0m\u001b[0;34m\u001b[0m\u001b[0;34m\u001b[0m\u001b[0m\n\u001b[0;32m----> 4\u001b[0;31m     \u001b[0mbert_input\u001b[0m \u001b[0;34m=\u001b[0m \u001b[0mbert_preprocess\u001b[0m\u001b[0;34m(\u001b[0m\u001b[0mtext_input\u001b[0m\u001b[0;34m)\u001b[0m\u001b[0;34m\u001b[0m\u001b[0;34m\u001b[0m\u001b[0m\n\u001b[0m\u001b[1;32m      5\u001b[0m     \u001b[0mbert_output\u001b[0m \u001b[0;34m=\u001b[0m \u001b[0mbert\u001b[0m\u001b[0;34m(\u001b[0m\u001b[0mbert_input\u001b[0m\u001b[0;34m)\u001b[0m\u001b[0;34m\u001b[0m\u001b[0;34m\u001b[0m\u001b[0m\n\u001b[1;32m      6\u001b[0m     \u001b[0mclf_input\u001b[0m \u001b[0;34m=\u001b[0m \u001b[0mbert_output\u001b[0m\u001b[0;34m[\u001b[0m\u001b[0;34m'pooled_output'\u001b[0m\u001b[0;34m]\u001b[0m\u001b[0;34m\u001b[0m\u001b[0;34m\u001b[0m\u001b[0m\n",
            "\u001b[0;31mNameError\u001b[0m: name 'bert_preprocess' is not defined"
          ]
        }
      ]
    },
    {
      "cell_type": "code",
      "source": [
        "model.summary()"
      ],
      "metadata": {
        "colab": {
          "base_uri": "https://localhost:8080/"
        },
        "id": "lUu38YbpiH4c",
        "outputId": "c1e86cba-b85e-4d7e-ace8-8680c9797629"
      },
      "execution_count": null,
      "outputs": [
        {
          "output_type": "stream",
          "name": "stdout",
          "text": [
            "Model: \"model\"\n",
            "__________________________________________________________________________________________________\n",
            " Layer (type)                   Output Shape         Param #     Connected to                     \n",
            "==================================================================================================\n",
            " txt_input (InputLayer)         [(None,)]            0           []                               \n",
            "                                                                                                  \n",
            " keras_layer_2 (KerasLayer)     {'input_word_ids':   0           ['txt_input[0][0]']              \n",
            "                                (None, 128),                                                      \n",
            "                                 'input_mask': (Non                                               \n",
            "                                e, 128),                                                          \n",
            "                                 'input_type_ids':                                                \n",
            "                                (None, 128)}                                                      \n",
            "                                                                                                  \n",
            " keras_layer_3 (KerasLayer)     {'pooled_output': (  109482241   ['keras_layer_2[0][0]',          \n",
            "                                None, 768),                       'keras_layer_2[0][1]',          \n",
            "                                 'encoder_outputs':               'keras_layer_2[0][2]']          \n",
            "                                 [(None, 128, 768),                                               \n",
            "                                 (None, 128, 768),                                                \n",
            "                                 (None, 128, 768),                                                \n",
            "                                 (None, 128, 768),                                                \n",
            "                                 (None, 128, 768),                                                \n",
            "                                 (None, 128, 768),                                                \n",
            "                                 (None, 128, 768),                                                \n",
            "                                 (None, 128, 768),                                                \n",
            "                                 (None, 128, 768),                                                \n",
            "                                 (None, 128, 768),                                                \n",
            "                                 (None, 128, 768),                                                \n",
            "                                 (None, 128, 768)],                                               \n",
            "                                 'default': (None,                                                \n",
            "                                768),                                                             \n",
            "                                 'sequence_output':                                               \n",
            "                                 (None, 128, 768)}                                                \n",
            "                                                                                                  \n",
            " dropout (Dropout)              (None, 768)          0           ['keras_layer_3[0][13]']         \n",
            "                                                                                                  \n",
            " dense (Dense)                  (None, 384)          295296      ['dropout[0][0]']                \n",
            "                                                                                                  \n",
            " dropout_1 (Dropout)            (None, 384)          0           ['dense[0][0]']                  \n",
            "                                                                                                  \n",
            " clf (Dense)                    (None, 5)            1925        ['dropout_1[0][0]']              \n",
            "                                                                                                  \n",
            "==================================================================================================\n",
            "Total params: 109,779,462\n",
            "Trainable params: 297,221\n",
            "Non-trainable params: 109,482,241\n",
            "__________________________________________________________________________________________________\n"
          ]
        }
      ]
    },
    {
      "cell_type": "code",
      "source": [
        "loss = tf.keras.losses.SparseCategoricalCrossentropy(from_logits=True)\n",
        "metrics = [tf.metrics.SparseCategoricalAccuracy()]\n",
        "optimizer = tf.keras.optimizers.Adam()\n",
        "\n",
        "model.compile(loss=loss, optimizer=optimizer, metrics=metrics)"
      ],
      "metadata": {
        "colab": {
          "base_uri": "https://localhost:8080/",
          "height": 200
        },
        "id": "XMjC-7ztiNC3",
        "outputId": "f92a988c-99a2-41c6-fb1e-0faa16f5b73f"
      },
      "execution_count": null,
      "outputs": [
        {
          "output_type": "error",
          "ename": "NameError",
          "evalue": "ignored",
          "traceback": [
            "\u001b[0;31m---------------------------------------------------------------------------\u001b[0m",
            "\u001b[0;31mNameError\u001b[0m                                 Traceback (most recent call last)",
            "\u001b[0;32m<ipython-input-8-5d0abcb6a750>\u001b[0m in \u001b[0;36m<module>\u001b[0;34m\u001b[0m\n\u001b[1;32m      3\u001b[0m \u001b[0moptimizer\u001b[0m \u001b[0;34m=\u001b[0m \u001b[0mtf\u001b[0m\u001b[0;34m.\u001b[0m\u001b[0mkeras\u001b[0m\u001b[0;34m.\u001b[0m\u001b[0moptimizers\u001b[0m\u001b[0;34m.\u001b[0m\u001b[0mAdam\u001b[0m\u001b[0;34m(\u001b[0m\u001b[0;34m)\u001b[0m\u001b[0;34m\u001b[0m\u001b[0;34m\u001b[0m\u001b[0m\n\u001b[1;32m      4\u001b[0m \u001b[0;34m\u001b[0m\u001b[0m\n\u001b[0;32m----> 5\u001b[0;31m \u001b[0mmodel\u001b[0m\u001b[0;34m.\u001b[0m\u001b[0mcompile\u001b[0m\u001b[0;34m(\u001b[0m\u001b[0mloss\u001b[0m\u001b[0;34m=\u001b[0m\u001b[0mloss\u001b[0m\u001b[0;34m,\u001b[0m \u001b[0moptimizer\u001b[0m\u001b[0;34m=\u001b[0m\u001b[0moptimizer\u001b[0m\u001b[0;34m,\u001b[0m \u001b[0mmetrics\u001b[0m\u001b[0;34m=\u001b[0m\u001b[0mmetrics\u001b[0m\u001b[0;34m)\u001b[0m\u001b[0;34m\u001b[0m\u001b[0;34m\u001b[0m\u001b[0m\n\u001b[0m",
            "\u001b[0;31mNameError\u001b[0m: name 'model' is not defined"
          ]
        }
      ]
    },
    {
      "cell_type": "code",
      "source": [
        "train_data = shuffle(data)[:10000]\n",
        "X = train_data[\"Review\"].to_numpy()\n",
        "y = train_data[\"Rating\"].to_numpy() - 1\n",
        "X_train, X_test, y_train, y_test = train_test_split(X, y, test_size=0.1)\n",
        "X_train, X_val, y_train, y_val = train_test_split(X_train, y_train, test_size=0.2)\n",
        "print(f\"X_train: {X_train.shape} | X_val: {X_val.shape} | X_test: {X_test.shape} | \\n\" +\n",
        "    f\"y_train: {y_train.shape} | y_val: {y_val.shape} | y_test: {y_test.shape} | \")"
      ],
      "metadata": {
        "colab": {
          "base_uri": "https://localhost:8080/"
        },
        "id": "MoJcavJiiRXc",
        "outputId": "01fe9823-7ff3-4b3f-a345-d4c8c9790b25"
      },
      "execution_count": null,
      "outputs": [
        {
          "output_type": "stream",
          "name": "stdout",
          "text": [
            "X_train: (7200,) | X_val: (1800,) | X_test: (1000,) | \n",
            "y_train: (7200,) | y_val: (1800,) | y_test: (1000,) | \n"
          ]
        }
      ]
    },
    {
      "cell_type": "code",
      "source": [
        "EPOCHS = 25\n",
        "BATCH_SIZE = 64\n",
        "history = model.fit(X_train, y_train, epochs=EPOCHS, batch_size=BATCH_SIZE, validation_data=(X_val, y_val))"
      ],
      "metadata": {
        "colab": {
          "base_uri": "https://localhost:8080/"
        },
        "id": "MLVPt8S9iUQM",
        "outputId": "6e637960-9f5b-4fef-dc8f-653db4df3896"
      },
      "execution_count": null,
      "outputs": [
        {
          "output_type": "stream",
          "name": "stdout",
          "text": [
            "Epoch 1/25\n"
          ]
        },
        {
          "output_type": "stream",
          "name": "stderr",
          "text": [
            "/usr/local/lib/python3.8/dist-packages/keras/backend.py:5585: UserWarning: \"`sparse_categorical_crossentropy` received `from_logits=True`, but the `output` argument was produced by a Softmax activation and thus does not represent logits. Was this intended?\n",
            "  output, from_logits = _get_logits(\n"
          ]
        },
        {
          "output_type": "stream",
          "name": "stdout",
          "text": [
            "113/113 [==============================] - 110s 876ms/step - loss: 3.0155 - sparse_categorical_accuracy: 0.4542 - val_loss: 1.5299 - val_sparse_categorical_accuracy: 0.4311\n",
            "Epoch 2/25\n",
            "113/113 [==============================] - 102s 909ms/step - loss: 1.3174 - sparse_categorical_accuracy: 0.4849 - val_loss: 1.2568 - val_sparse_categorical_accuracy: 0.4783\n",
            "Epoch 3/25\n",
            "113/113 [==============================] - 100s 890ms/step - loss: 1.2175 - sparse_categorical_accuracy: 0.4921 - val_loss: 1.2263 - val_sparse_categorical_accuracy: 0.4822\n",
            "Epoch 4/25\n",
            "113/113 [==============================] - 102s 904ms/step - loss: 1.2074 - sparse_categorical_accuracy: 0.4872 - val_loss: 1.1932 - val_sparse_categorical_accuracy: 0.5006\n",
            "Epoch 5/25\n",
            "113/113 [==============================] - 100s 889ms/step - loss: 1.2205 - sparse_categorical_accuracy: 0.4858 - val_loss: 1.2124 - val_sparse_categorical_accuracy: 0.4722\n",
            "Epoch 6/25\n",
            "113/113 [==============================] - 102s 903ms/step - loss: 1.2068 - sparse_categorical_accuracy: 0.4897 - val_loss: 1.1759 - val_sparse_categorical_accuracy: 0.5144\n",
            "Epoch 7/25\n",
            "113/113 [==============================] - 100s 891ms/step - loss: 1.2072 - sparse_categorical_accuracy: 0.4922 - val_loss: 1.2001 - val_sparse_categorical_accuracy: 0.4872\n",
            "Epoch 8/25\n",
            "113/113 [==============================] - 100s 890ms/step - loss: 1.2223 - sparse_categorical_accuracy: 0.4842 - val_loss: 1.1766 - val_sparse_categorical_accuracy: 0.5072\n",
            "Epoch 9/25\n",
            "113/113 [==============================] - 102s 901ms/step - loss: 1.1962 - sparse_categorical_accuracy: 0.5001 - val_loss: 1.1858 - val_sparse_categorical_accuracy: 0.5144\n",
            "Epoch 10/25\n",
            "113/113 [==============================] - 100s 887ms/step - loss: 1.1931 - sparse_categorical_accuracy: 0.5019 - val_loss: 1.2030 - val_sparse_categorical_accuracy: 0.4856\n",
            "Epoch 11/25\n",
            "113/113 [==============================] - 101s 894ms/step - loss: 1.1991 - sparse_categorical_accuracy: 0.4965 - val_loss: 1.1795 - val_sparse_categorical_accuracy: 0.4972\n",
            "Epoch 12/25\n",
            "113/113 [==============================] - 100s 887ms/step - loss: 1.2148 - sparse_categorical_accuracy: 0.4840 - val_loss: 1.1637 - val_sparse_categorical_accuracy: 0.5144\n",
            "Epoch 13/25\n",
            "113/113 [==============================] - 102s 903ms/step - loss: 1.1898 - sparse_categorical_accuracy: 0.5085 - val_loss: 1.1925 - val_sparse_categorical_accuracy: 0.5000\n",
            "Epoch 14/25\n",
            "113/113 [==============================] - 100s 887ms/step - loss: 1.1925 - sparse_categorical_accuracy: 0.4968 - val_loss: 1.1916 - val_sparse_categorical_accuracy: 0.4922\n",
            "Epoch 15/25\n",
            "113/113 [==============================] - 102s 901ms/step - loss: 1.1913 - sparse_categorical_accuracy: 0.5046 - val_loss: 1.1672 - val_sparse_categorical_accuracy: 0.5061\n",
            "Epoch 16/25\n",
            "113/113 [==============================] - 100s 886ms/step - loss: 1.1906 - sparse_categorical_accuracy: 0.5029 - val_loss: 1.1756 - val_sparse_categorical_accuracy: 0.5100\n",
            "Epoch 17/25\n",
            "113/113 [==============================] - 102s 902ms/step - loss: 1.1836 - sparse_categorical_accuracy: 0.5029 - val_loss: 1.1909 - val_sparse_categorical_accuracy: 0.5000\n",
            "Epoch 18/25\n",
            "113/113 [==============================] - 100s 885ms/step - loss: 1.1901 - sparse_categorical_accuracy: 0.4982 - val_loss: 1.1812 - val_sparse_categorical_accuracy: 0.4922\n",
            "Epoch 19/25\n",
            "113/113 [==============================] - 102s 902ms/step - loss: 1.1889 - sparse_categorical_accuracy: 0.4965 - val_loss: 1.1536 - val_sparse_categorical_accuracy: 0.5222\n",
            "Epoch 20/25\n",
            "113/113 [==============================] - 100s 885ms/step - loss: 1.1894 - sparse_categorical_accuracy: 0.4942 - val_loss: 1.1659 - val_sparse_categorical_accuracy: 0.5089\n",
            "Epoch 21/25\n",
            "113/113 [==============================] - 101s 895ms/step - loss: 1.1800 - sparse_categorical_accuracy: 0.5081 - val_loss: 1.2137 - val_sparse_categorical_accuracy: 0.4822\n",
            "Epoch 22/25\n",
            "113/113 [==============================] - 99s 878ms/step - loss: 1.1909 - sparse_categorical_accuracy: 0.4978 - val_loss: 1.2185 - val_sparse_categorical_accuracy: 0.4694\n",
            "Epoch 23/25\n",
            "113/113 [==============================] - 101s 900ms/step - loss: 1.1899 - sparse_categorical_accuracy: 0.4939 - val_loss: 1.2383 - val_sparse_categorical_accuracy: 0.4672\n",
            "Epoch 24/25\n",
            "113/113 [==============================] - 99s 878ms/step - loss: 1.1861 - sparse_categorical_accuracy: 0.5035 - val_loss: 1.1701 - val_sparse_categorical_accuracy: 0.5039\n",
            "Epoch 25/25\n",
            "113/113 [==============================] - 101s 898ms/step - loss: 1.1852 - sparse_categorical_accuracy: 0.4983 - val_loss: 1.1736 - val_sparse_categorical_accuracy: 0.5061\n"
          ]
        }
      ]
    },
    {
      "cell_type": "code",
      "source": [
        "import tensorflow as tf"
      ],
      "metadata": {
        "id": "2alcPXbjtO9g"
      },
      "execution_count": null,
      "outputs": []
    },
    {
      "cell_type": "code",
      "source": [
        "tf.saved_models.save(model, \"models/bert2\")"
      ],
      "metadata": {
        "colab": {
          "base_uri": "https://localhost:8080/",
          "height": 165
        },
        "id": "gAWm0y4itVkg",
        "outputId": "77415f3f-bd13-45c9-cc01-cb9b3978986c"
      },
      "execution_count": null,
      "outputs": [
        {
          "output_type": "error",
          "ename": "AttributeError",
          "evalue": "ignored",
          "traceback": [
            "\u001b[0;31m---------------------------------------------------------------------------\u001b[0m",
            "\u001b[0;31mAttributeError\u001b[0m                            Traceback (most recent call last)",
            "\u001b[0;32m<ipython-input-7-f4283e7d9194>\u001b[0m in \u001b[0;36m<module>\u001b[0;34m\u001b[0m\n\u001b[0;32m----> 1\u001b[0;31m \u001b[0mtf\u001b[0m\u001b[0;34m.\u001b[0m\u001b[0msaved_models\u001b[0m\u001b[0;34m.\u001b[0m\u001b[0msave\u001b[0m\u001b[0;34m(\u001b[0m\u001b[0mmodel\u001b[0m\u001b[0;34m,\u001b[0m \u001b[0;34m\"models/bert2\"\u001b[0m\u001b[0;34m)\u001b[0m\u001b[0;34m\u001b[0m\u001b[0;34m\u001b[0m\u001b[0m\n\u001b[0m",
            "\u001b[0;31mAttributeError\u001b[0m: module 'tensorflow' has no attribute 'saved_models'"
          ]
        }
      ]
    },
    {
      "cell_type": "code",
      "source": [],
      "metadata": {
        "id": "dNFXrYGuuduc"
      },
      "execution_count": null,
      "outputs": []
    }
  ]
}